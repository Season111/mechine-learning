{
 "cells": [
  {
   "cell_type": "code",
   "execution_count": 1,
   "metadata": {},
   "outputs": [
    {
     "name": "stdout",
     "output_type": "stream",
     "text": [
      "销毁前的引用计数：4\n",
      "对象delObject销毁\n"
     ]
    }
   ],
   "source": [
    "#声明类delObject的实例，并将其引用赋给其它别名，然后调用del方法将其销毁\n",
    "class delObject:\n",
    "    def __init__(self):\n",
    "        self.var = 100\n",
    "    def __del__(self):\n",
    "        class_name = self.__class__.__name__\n",
    "        print(\"对象%s销毁\" %class_name)\n",
    "obj1 = delObject()\n",
    "obj2 = obj1\n",
    "obj3 = obj1\n",
    "print(\"销毁前的引用计数：%d\" %sys.getrefcount(obj1))\n",
    "del obj1\n",
    "del obj2\n",
    "del obj3\n",
    "\n"
   ]
  }
 ],
 "metadata": {
  "kernelspec": {
   "display_name": "Python 3.9.12 ('base': conda)",
   "language": "python",
   "name": "python3"
  },
  "language_info": {
   "codemirror_mode": {
    "name": "ipython",
    "version": 3
   },
   "file_extension": ".py",
   "mimetype": "text/x-python",
   "name": "python",
   "nbconvert_exporter": "python",
   "pygments_lexer": "ipython3",
   "version": "3.9.12"
  },
  "orig_nbformat": 4,
  "vscode": {
   "interpreter": {
    "hash": "3118533edb6c7d8ba082708b4f86530d5c9a50760e08959c125d265eab50212d"
   }
  }
 },
 "nbformat": 4,
 "nbformat_minor": 2
}
