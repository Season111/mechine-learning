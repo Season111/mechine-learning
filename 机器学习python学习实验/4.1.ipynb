{
 "cells": [
  {
   "cell_type": "code",
   "execution_count": 2,
   "metadata": {},
   "outputs": [
    {
     "name": "stdout",
     "output_type": "stream",
     "text": [
      "['the', 'the', 'the', 'the', 'the', 'the', 'the', 'the', 'the', 'the', 'the']\n",
      "['With']\n",
      "['the', 'and', 'our', 'but', 'are', 'The', 'the', 'one', 'are', 'may', 'for', 'and', 'the', 'are', 'the', '原因1', '原因2', '原因3', 'has', 'its', 'The', 'the', 'the', 'one', 'the', 'the', 'the', 'way', 'for', 'and', 'our']\n"
     ]
    }
   ],
   "source": [
    "#在下面的一段文字中，使用函数re.findall()，\n",
    "#1、匹配字符单词the；\n",
    "import re\n",
    "text = \"With the development of science and human civilization, many formerly unimaginable things come into reality. Some of them have positive effects on our life, but some are distasteful. The phenomenon of _______ (主题现象) is an example of the former / latter one.There are many factors that may account for it, and the following are the most conspicuous aspects.To start with, __________________ (原因1). Furthermore, ______________________ (原因2). Eventually, __________________________ (原因3). Good as ____________ (主题现象) is, it has, unfortunately, its disadvantages. The apparent example is that ___________ (缺点例子1). In addition, ___________ (缺点例子2).On the whole, the phenomenon is one of the results of the progress of the modern society. There is still a long way for us to improve / eliminate __________ (主题现象) and make our life more comfortable.\"\n",
    "result1 = re.findall(r'the',text)\n",
    "print(result1)\n",
    "\n",
    "#2、匹配以w开头的完整单词；\n",
    "result2 = re.findall(r'\\bW\\w+',text)\n",
    "print(result2)\n",
    "\n",
    "#3、查找字母长度为3的单词。\n",
    "result3 = re.findall(r'\\b\\w{3}\\b',text)\n",
    "print(result3)"
   ]
  },
  {
   "cell_type": "code",
   "execution_count": 7,
   "metadata": {},
   "outputs": [
    {
     "name": "stdout",
     "output_type": "stream",
     "text": [
      "第一题的答案是： ['With', 'science', 'civilization', 'unimaginable', 'things', 'into', 'reality', 'positive', 'life', 'distasteful', 'is', 'it', 'following', 'conspicuous', 'with', 'is', 'it', 'its', 'disadvantages', 'is', 'addition', 'is', 'society', 'is', 'still', 'improve', 'eliminate', 'life']\n",
      "第二题的答案是： []\n",
      "第三题的答案是： ['is', 'is', 'is', 'is', 'is', 'is', 'is']\n"
     ]
    }
   ],
   "source": [
    "#1.用compile方法，匹配文本中所有含字母i的单词\n",
    "import re\n",
    "text = \"With the development of science and human civilization, many formerly unimaginable things come into reality. Some of them have positive effects on our life, but some are distasteful. The phenomenon of _______ (主题现象) is an example of the former / latter one.There are many factors that may account for it, and the following are the most conspicuous aspects.To start with, __________________ (原因1). Furthermore, ______________________ (原因2). Eventually, __________________________ (原因3). Good as ____________ (主题现象) is, it has, unfortunately, its disadvantages. The apparent example is that ___________ (缺点例子1). In addition, ___________ (缺点例子2).On the whole, the phenomenon is one of the results of the progress of the modern society. There is still a long way for us to improve / eliminate __________ (主题现象) and make our life more comfortable.\"\n",
    "result1 = re.compile(r'\\b\\w*i\\w*\\b')\n",
    "print('第一题的答案是：',result1.findall(text))\n",
    "#2.在字符串起始位置匹配字符The是否存在，并返回被正则匹配的字符串\n",
    "result2 = re.compile(r'^The')\n",
    "print('第二题的答案是：',result2.findall(text))\n",
    "#3.在整个字符串查看字符is是否存在，并返回被正则匹配的字符串\n",
    "result3 = re.compile(r'is')\n",
    "print('第三题的答案是：',result3.findall(text))"
   ]
  },
  {
   "cell_type": "code",
   "execution_count": 6,
   "metadata": {},
   "outputs": [
    {
     "name": "stdout",
     "output_type": "stream",
     "text": [
      "第一题的答案是： ['the', 'things', 'them', 'the', 'that', 'the', 'the', 'that', 'the', 'the', 'the', 'the', 'the', 'to']\n",
      "第二题的答案是： ['With', 'the', 'development', 'of', 'science', 'and', 'human', 'civilization,', 'many', 'formerly', 'unimaginable', 'things', 'come', 'into', 'reality.', 'Some', 'of', 'them', 'have', 'positive', 'effects', 'on', 'our', 'life,', 'but', 'some', 'are', 'distasteful.', 'The', 'phenomenon', 'of', '_______', '(主题现象)', 'is', 'an', 'example', 'of', 'the', 'former', '/', 'latter', 'one.There', 'are', 'many', 'factors', 'that', 'may', 'account', 'for', 'it,', 'and', 'the', 'following', 'are', 'the', 'most', 'conspicuous', 'aspects.To', 'start', 'with,', '__________________', '(原因1).', 'Furthermore,', '______________________', '(原因2).', 'Eventually,', '__________________________', '(原因3).', 'Good', 'as', '____________', '(主题现象)', 'is,', 'it', 'has,', 'unfortunately,', 'its', 'disadvantages.', 'The', 'apparent', 'example', 'is', 'that', '___________', '(缺点例子1).', 'In', 'addition,', '___________', '(缺点例子2).On', 'the', 'whole,', 'the', 'phenomenon', 'is', 'one', 'of', 'the', 'results', 'of', 'the', 'progress', 'of', 'the', 'modern', 'society.', 'There', 'is', 'still', 'a', 'long', 'way', 'for', 'us', 'to', 'improve', '/', 'eliminate', '__________', '(主题现象)', 'and', 'make', 'our', 'life', 'more', 'comfortable.']\n",
      "第三题的答案是： text\n",
      "第四题的答案是： ('text', 0)\n"
     ]
    }
   ],
   "source": [
    "#1.将文本中匹配以t开头的所有单词并显示\n",
    "import re\n",
    "text = \"With the development of science and human civilization, many formerly unimaginable things come into reality. Some of them have positive effects on our life, but some are distasteful. The phenomenon of _______ (主题现象) is an example of the former / latter one.There are many factors that may account for it, and the following are the most conspicuous aspects.To start with, __________________ (原因1). Furthermore, ______________________ (原因2). Eventually, __________________________ (原因3). Good as ____________ (主题现象) is, it has, unfortunately, its disadvantages. The apparent example is that ___________ (缺点例子1). In addition, ___________ (缺点例子2).On the whole, the phenomenon is one of the results of the progress of the modern society. There is still a long way for us to improve / eliminate __________ (主题现象) and make our life more comfortable.\"\n",
    "result1 = re.findall(r'\\bt\\w+',text)\n",
    "#输出第一题的答案是：result1\n",
    "print('第一题的答案是：', result1)\n",
    "#2.用空格分割句子\n",
    "result2 = re.split(r'\\s',text)\n",
    "print('第二题的答案是：',result2)\n",
    "#3.用‘-’代替句子中的空格\n",
    "result3 = re.sub(r'\\s','-','text')\n",
    "print('第三题的答案是：',result3)\n",
    "#4.用‘-’代替句子中的空格，并返回替换次数\n",
    "result4 = re.subn(r'\\s','-','text')\n",
    "print('第四题的答案是：',result4)"
   ]
  }
 ],
 "metadata": {
  "kernelspec": {
   "display_name": "Python 3.8.13 ('mindspore': conda)",
   "language": "python",
   "name": "python3"
  },
  "language_info": {
   "codemirror_mode": {
    "name": "ipython",
    "version": 3
   },
   "file_extension": ".py",
   "mimetype": "text/x-python",
   "name": "python",
   "nbconvert_exporter": "python",
   "pygments_lexer": "ipython3",
   "version": "3.8.13"
  },
  "orig_nbformat": 4,
  "vscode": {
   "interpreter": {
    "hash": "fd66c1ceb77ed659473192727f2f130f488a1b3f89f93f2a4194650289467c02"
   }
  }
 },
 "nbformat": 4,
 "nbformat_minor": 2
}
