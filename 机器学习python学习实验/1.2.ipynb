{
 "cells": [
  {
   "cell_type": "code",
   "execution_count": 6,
   "metadata": {},
   "outputs": [
    {
     "name": "stdout",
     "output_type": "stream",
     "text": [
      "['fu tian', 'wang bo', 'an wen', 'jiang zhe', 'shi hongxi']\n"
     ]
    }
   ],
   "source": [
    "guests = []\n",
    "\n",
    "while True:\n",
    "    value = input(\"Please input a guest name, or 'q' to quit: \")\n",
    "    if value == \"q\":\n",
    "        break\n",
    "    guests.append(value)\n",
    "\n",
    "guests.remove('luo cheng')  # 将列表中的`luo cheng`删除\n",
    "\n",
    "guests.remove('shi hongxi')  # 将列表中的`shi hongxi`删除\n",
    "\n",
    "guests.insert(0, \"fu tian\")\n",
    "\n",
    "guests.append('shi hongxi')\n",
    "\n",
    "print(guests)"
   ]
  },
  {
   "cell_type": "code",
   "execution_count": 2,
   "metadata": {},
   "outputs": [
    {
     "name": "stdout",
     "output_type": "stream",
     "text": [
      "['sugarcane  grape  banana  durian  pitaya  apple']\n"
     ]
    }
   ],
   "source": [
    "fruits_list=[]\n",
    "while True:\n",
    "   try:\n",
    "       list_element = input()\n",
    "       fruits_list.append(list_element)\n",
    "       fruits_list.sort()\n",
    "       print(fruits_list)\n",
    "   except:\n",
    "       break"
   ]
  },
  {
   "cell_type": "code",
   "execution_count": 3,
   "metadata": {},
   "outputs": [
    {
     "name": "stdout",
     "output_type": "stream",
     "text": [
      "96\n",
      "1\n",
      "20\n"
     ]
    }
   ],
   "source": [
    "num=list(range(1,100,5))\n",
    "print(max(num))\n",
    "print(min(num))\n",
    "print(len(num))"
   ]
  },
  {
   "cell_type": "code",
   "execution_count": 12,
   "metadata": {},
   "outputs": [
    {
     "name": "stdout",
     "output_type": "stream",
     "text": [
      "A:  ['fish', 'orange']\n",
      "B:  ['potato', 'carrot', 'onion', 'garlic']\n",
      "wo:  ['fish', 'potato', 'onion']\n"
     ]
    }
   ],
   "source": [
    "shopping_list = ['fish','orange','potato','carrot','onion','garlic']\n",
    "A =shopping_list [:2]\n",
    "print(\"A: \",A)\n",
    "B =shopping_list [2:]\n",
    "print(\"B: \",B)\n",
    "wo =shopping_list [::2]\n",
    "print(\"wo: \",wo)"
   ]
  }
 ],
 "metadata": {
  "kernelspec": {
   "display_name": "Python 3.8.13 (conda)",
   "language": "python",
   "name": "python3"
  },
  "language_info": {
   "codemirror_mode": {
    "name": "ipython",
    "version": 3
   },
   "file_extension": ".py",
   "mimetype": "text/x-python",
   "name": "python",
   "nbconvert_exporter": "python",
   "pygments_lexer": "ipython3",
   "version": "3.8.13"
  },
  "orig_nbformat": 4,
  "vscode": {
   "interpreter": {
    "hash": "fd66c1ceb77ed659473192727f2f130f488a1b3f89f93f2a4194650289467c02"
   }
  }
 },
 "nbformat": 4,
 "nbformat_minor": 2
}
