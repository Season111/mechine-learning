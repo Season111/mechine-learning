{
 "cells": [
  {
   "cell_type": "code",
   "execution_count": 1,
   "metadata": {},
   "outputs": [
    {
     "name": "stdout",
     "output_type": "stream",
     "text": [
      "1\n",
      "1\n",
      "2\n",
      "3\n",
      "5\n",
      "8\n",
      "13\n",
      "21\n",
      "34\n",
      "55\n",
      "stop\n"
     ]
    }
   ],
   "source": [
    "#创建class FibIterator，调用可输出斐波那契数列\n",
    "class FibIterator:\n",
    "    def __init__(self, n):\n",
    "        self.a = 0\n",
    "        self.b = 1\n",
    "        self.n = n\n",
    "\n",
    "    def __iter__(self):\n",
    "        return self\n",
    "\n",
    "    def __next__(self):\n",
    "        if self.n > 0:\n",
    "            self.a, self.b = self.b, self.a + self.b\n",
    "            self.n -= 1\n",
    "            return self.a\n",
    "        else:\n",
    "            raise StopIteration()\n",
    "def GetFib(count):\n",
    "\n",
    "    return FibIterator(count)\n",
    "\n",
    "c = GetFib(10)\n",
    "\n",
    "try:\n",
    "\n",
    "    while(True): \n",
    "\n",
    "        print(next(c))  #输出斐波那契数列\n",
    "\n",
    "except StopIteration:\n",
    "\n",
    "    print(\"stop\") "
   ]
  },
  {
   "cell_type": "code",
   "execution_count": 4,
   "metadata": {},
   "outputs": [
    {
     "name": "stdout",
     "output_type": "stream",
     "text": [
      "1\n",
      "3\n",
      "5\n"
     ]
    }
   ],
   "source": [
    "def myrange(start,stop,step):\n",
    "    \n",
    "        while start < stop:\n",
    "    \n",
    "            yield start\n",
    "    \n",
    "            start += step\n",
    "\n",
    "start=int(input())\n",
    "\n",
    "stop =int(input())\n",
    "\n",
    "step =int(input())\n",
    "\n",
    "count =int(input())\n",
    "\n",
    "i=0\n",
    "\n",
    "g = myrange(start,stop,step)\n",
    "\n",
    "while i<count :\n",
    "\n",
    "    print(next(g))\n",
    "\n",
    "    i+=1"
   ]
  }
 ],
 "metadata": {
  "kernelspec": {
   "display_name": "Python 3.8.13 (conda)",
   "language": "python",
   "name": "python3"
  },
  "language_info": {
   "codemirror_mode": {
    "name": "ipython",
    "version": 3
   },
   "file_extension": ".py",
   "mimetype": "text/x-python",
   "name": "python",
   "nbconvert_exporter": "python",
   "pygments_lexer": "ipython3",
   "version": "3.8.13"
  },
  "orig_nbformat": 4,
  "vscode": {
   "interpreter": {
    "hash": "fd66c1ceb77ed659473192727f2f130f488a1b3f89f93f2a4194650289467c02"
   }
  }
 },
 "nbformat": 4,
 "nbformat_minor": 2
}
