{
 "cells": [
  {
   "cell_type": "code",
   "execution_count": 2,
   "metadata": {},
   "outputs": [],
   "source": [
    "#定义交通工具类 vehicle，定义初始化方法__init__，和use\n",
    "class Vehicle:\n",
    "    def __init__(self, name, speed, mileage):\n",
    "        self.name = name\n",
    "        self.speed = speed\n",
    "        self.mileage = mileage\n",
    "    def use(self):\n",
    "        print(\"The vehicle is used for transportation\")\n",
    "#定义子类，car，定义初始化方法，及drive方法（打印需要汽油）\n",
    "class Car(Vehicle):\n",
    "    def __init__(self, name, speed, mileage, capacity):\n",
    "        super().__init__(name, speed, mileage)\n",
    "        self.capacity = capacity\n",
    "    def drive(self):\n",
    "        print(\"The car needs gasoline\")\n",
    "#定义子类，bicycle，定义初始化方法，及cycling方法（打印需要体力）\n",
    "class Bicycle(Vehicle):\n",
    "    def __init__(self, name, speed, mileage):\n",
    "        super().__init__(name, speed, mileage)\n",
    "    def cycling(self):\n",
    "        print(\"The bicycle needs physical strength\")"
   ]
  },
  {
   "cell_type": "code",
   "execution_count": 3,
   "metadata": {},
   "outputs": [
    {
     "name": "stdout",
     "output_type": "stream",
     "text": [
      "The vehicle is unlocked\n",
      "The vehicle is used for transportation\n",
      "The car needs gasoline\n",
      "The vehicle is unlocked\n",
      "The vehicle is used for transportation\n",
      "The bicycle needs physical strength\n"
     ]
    }
   ],
   "source": [
    "#定义交通工具类 vehicle，定义初始化方法__init__，和use，unlocking方法\n",
    "class Vehicle:\n",
    "    def __init__(self, name, speed, mileage):\n",
    "        self.name = name\n",
    "        self.speed = speed\n",
    "        self.mileage = mileage\n",
    "    def use(self):\n",
    "        print(\"The vehicle is used for transportation\")\n",
    "    def unlocking(self):\n",
    "        print(\"The vehicle is unlocked\")\n",
    "#定义子类，car，重写use方法（最好在子类的重写方法里使用super()内建方法）\n",
    "class Car(Vehicle):\n",
    "    def __init__(self, name, speed, mileage, capacity):\n",
    "        super().__init__(name, speed, mileage)\n",
    "        self.capacity = capacity\n",
    "    def use(self):\n",
    "        super().use()\n",
    "        print(\"The car needs gasoline\")\n",
    "#定义子类，bicycle，重写use方法（最好在子类的重写方法里使用super()内建方法）\n",
    "class Bicycle(Vehicle):\n",
    "    def __init__(self, name, speed, mileage):\n",
    "        super().__init__(name, speed, mileage)\n",
    "    def use(self):\n",
    "        super().use()\n",
    "        print(\"The bicycle needs physical strength\")\n",
    "#实例化子类后，先开锁，再使用\n",
    "car = Car(\"BMW\", 120, 20, 5)\n",
    "car.unlocking()\n",
    "car.use()\n",
    "bicycle = Bicycle(\"Giant\", 20, 10)\n",
    "bicycle.unlocking()\n",
    "bicycle.use()"
   ]
  },
  {
   "cell_type": "code",
   "execution_count": 4,
   "metadata": {},
   "outputs": [],
   "source": [
    "#使用super()内建函数去捕获对应的父类，并调用它的__new__()方法来计算输入数值的绝对值，返回最后的结果\n",
    "class A:\n",
    "    def __new__(cls, *args, **kwargs):\n",
    "        print(\"A.__new__\")\n",
    "        return super().__new__(cls)\n",
    "    def __init__(self, x):\n",
    "        print(\"A.__init__\")\n",
    "        self.x = abs(x)\n",
    "#使用super()内建函数去捕获对应父类，从而使输入字典自动排序并返回最后的结果。\n",
    "class ChangeAbs(int):\n",
    "    def __new__(cls, val):\n",
    "        return super().__new__(cls, abs(val))\n",
    "    def __init__(self, val):\n",
    "        super().__init__()\n",
    "        self.val = val\n",
    "#使用super()内建函数去捕获对应父类，从而使输入字典自动排序并返回最后的结果。\n",
    "class SortedDict(dict):\n",
    "    def keys(self):\n",
    "        return sorted(super().keys())"
   ]
  },
  {
   "cell_type": "code",
   "execution_count": 5,
   "metadata": {},
   "outputs": [],
   "source": [
    "class A(object):\n",
    "\n",
    "    def test(self):\n",
    "\n",
    "        print(\"this is A.test()\")\n",
    "\n",
    "class B(object):\n",
    "\n",
    "    def test(self):\n",
    "\n",
    "        print(\"this is B.test()\")\n",
    "\n",
    "    def check(self):\n",
    "\n",
    "        print(\"this is B.check()\")\n",
    "  #C类继承自A、B\n",
    "class C(A, B):\n",
    "\n",
    "    def check(self):\n",
    "\n",
    "        print(\"this is C.check()\")\n",
    "    pass\n",
    "#D类继承自A、B\n",
    "class D(A, B):\n",
    "\n",
    "    def check(self):\n",
    "\n",
    "        print(\"this is D.check()\")\n",
    "#E类继承自C、D\n",
    "class E(C, D):\n",
    "\n",
    "    def check(self):\n",
    "\n",
    "        print(\"this is E.check()\")"
   ]
  }
 ],
 "metadata": {
  "kernelspec": {
   "display_name": "Python 3.8.13 (conda)",
   "language": "python",
   "name": "python3"
  },
  "language_info": {
   "codemirror_mode": {
    "name": "ipython",
    "version": 3
   },
   "file_extension": ".py",
   "mimetype": "text/x-python",
   "name": "python",
   "nbconvert_exporter": "python",
   "pygments_lexer": "ipython3",
   "version": "3.8.13"
  },
  "orig_nbformat": 4,
  "vscode": {
   "interpreter": {
    "hash": "fd66c1ceb77ed659473192727f2f130f488a1b3f89f93f2a4194650289467c02"
   }
  }
 },
 "nbformat": 4,
 "nbformat_minor": 2
}
