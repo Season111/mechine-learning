{
 "cells": [
  {
   "cell_type": "code",
   "execution_count": 1,
   "metadata": {},
   "outputs": [
    {
     "name": "stdout",
     "output_type": "stream",
     "text": [
      "True\n",
      "['__class__', '__delattr__', '__dict__', '__dir__', '__doc__', '__eq__', '__format__', '__ge__', '__getattribute__', '__gt__', '__hash__', '__init__', '__init_subclass__', '__le__', '__lt__', '__module__', '__ne__', '__new__', '__reduce__', '__reduce_ex__', '__repr__', '__setattr__', '__sizeof__', '__str__', '__subclasshook__', '__weakref__', 'num']\n",
      "this is subClass\n",
      "this is parentClass\n"
     ]
    }
   ],
   "source": [
    "class testClass(object):\n",
    "\n",
    "  num = 100\n",
    "\n",
    "  def __init__(self,name):\n",
    "\n",
    "      self.name = name\n",
    "\n",
    "test = testClass('StudentName')\n",
    "#调用hasattr()，查看属性name，num是否存在\n",
    "print(hasattr(test,'name'))\n",
    "#使用setattr，getattr，设置和获取属性值\n",
    "setattr(test,'name','NewName')\n",
    "#delattr删除属性\n",
    "delattr(test,'name')\n",
    "#查看dir()的用法\n",
    "print(dir(test))\n",
    "##super()找出相应类的父类，然后调用父类的方法与属性\n",
    "class parentClass:\n",
    "\n",
    "    def __init__(self):\n",
    "\n",
    "        self.name = \"parent\"\n",
    "\n",
    "    def tell(self):\n",
    "\n",
    "        print(\"this is parentClass\")\n",
    "\n",
    "class subClass(parentClass):\n",
    "\n",
    "    def tell(self):\n",
    "\n",
    "        print(\"this is subClass\")\n",
    "\n",
    "        parentClass.tell(self)  #5、用super函数实现\n",
    "\n",
    "sc = subClass()\n",
    "\n",
    "sc.tell()\n",
    "#super()找出相应类的父类，然后调用父类的方法与属性。\n",
    "class parentClass:\n",
    "\n",
    "    def __init__(self):\n",
    "\n",
    "        self.name = \"parent\"\n",
    "\n",
    "    def tell(self):\n",
    "\n",
    "        print(\"this is parentClass\")"
   ]
  },
  {
   "cell_type": "code",
   "execution_count": 2,
   "metadata": {},
   "outputs": [
    {
     "name": "stdout",
     "output_type": "stream",
     "text": [
      "True\n",
      "True\n",
      "(<class '__main__.A'>, <class '__main__.B'>)\n"
     ]
    }
   ],
   "source": [
    "class A(object):\n",
    "\n",
    "    def test(self):\n",
    "\n",
    "        print(\"this is A.test()\")\n",
    "\n",
    "class B(object):\n",
    "\n",
    "    def test(self):\n",
    "\n",
    "        print(\"this is B.test()\")\n",
    "\n",
    "    def check(self):\n",
    "\n",
    "        print(\"this is B.check()\")\n",
    "\n",
    "class C(A,B):\n",
    "\n",
    "    pass\n",
    "\n",
    "class D(A,B):\n",
    "\n",
    "    def check(self):\n",
    "\n",
    "        print(\"this is D.check()\")\n",
    "\n",
    "class E(C,D):\n",
    "\n",
    "    pass\n",
    "\n",
    "c = C()\n",
    "#判断C是否为A的子类，输出结果\n",
    "print(issubclass(C,A))\n",
    "#判断c是否为C的实例，输出结果\n",
    "print(isinstance(c,C))\n",
    "#调用C的父类的check()方法\n",
    "print(C.__bases__)"
   ]
  },
  {
   "cell_type": "code",
   "execution_count": 9,
   "metadata": {},
   "outputs": [
    {
     "name": "stdout",
     "output_type": "stream",
     "text": [
      "2\n",
      "3\n"
     ]
    }
   ],
   "source": [
    "class privatization(object):\n",
    "\n",
    "    def __init__(self,number):\n",
    "\n",
    "        self._number = number\n",
    "\n",
    "        self.__number__ = number+1\n",
    "pr = privatization(2)\n",
    "#输出privatization类中变量_number的代码\n",
    "print(pr._number)\n",
    "#输出privatization类中变量__number的代码\n",
    "print(pr.__number__)"
   ]
  },
  {
   "cell_type": "code",
   "execution_count": null,
   "metadata": {},
   "outputs": [],
   "source": [
    "    "
   ]
  }
 ],
 "metadata": {
  "kernelspec": {
   "display_name": "Python 3.8.13 ('mindspore': conda)",
   "language": "python",
   "name": "python3"
  },
  "language_info": {
   "codemirror_mode": {
    "name": "ipython",
    "version": 3
   },
   "file_extension": ".py",
   "mimetype": "text/x-python",
   "name": "python",
   "nbconvert_exporter": "python",
   "pygments_lexer": "ipython3",
   "version": "3.8.13"
  },
  "orig_nbformat": 4,
  "vscode": {
   "interpreter": {
    "hash": "fd66c1ceb77ed659473192727f2f130f488a1b3f89f93f2a4194650289467c02"
   }
  }
 },
 "nbformat": 4,
 "nbformat_minor": 2
}
