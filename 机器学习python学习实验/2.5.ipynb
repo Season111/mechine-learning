{
 "cells": [
  {
   "cell_type": "code",
   "execution_count": 5,
   "metadata": {},
   "outputs": [
    {
     "name": "stdout",
     "output_type": "stream",
     "text": [
      "[(2, 8), [2, 3], (2, 1), (3, 4), [4, 1]]\n"
     ]
    }
   ],
   "source": [
    "# 1. 按照元组的第一个从小到大排序\n",
    "# 2. 如果第一个相同 ,则按照元组第2个从大到小排序\n",
    "a = [[2,3],[4,1],(2,8),(2,1),(3,4)]\n",
    "b = sorted(a,key=lambda x: (x[0], -x[1]))\n",
    "print(b)"
   ]
  },
  {
   "cell_type": "code",
   "execution_count": 3,
   "metadata": {},
   "outputs": [
    {
     "name": "stdout",
     "output_type": "stream",
     "text": [
      "较大的值是：5\n",
      "较小的值是：2\n"
     ]
    }
   ],
   "source": [
    "#判断最大值和最小值，得到结果赋给max和min变量\n",
    "MAXIMUM = lambda a,b:max(a,b)\n",
    "MINIMUM = lambda a,b:min(a,b)\n",
    "#********** End **********#\n",
    "\n",
    "# 输入两个正整数\n",
    "a = int(input())\n",
    "b = int(input())\n",
    "\n",
    "# 输出较大的值和较小的值\n",
    "print('较大的值是：%d' % MAXIMUM(a,b))\n",
    "print('较小的值是：%d' % MINIMUM(a,b))"
   ]
  }
 ],
 "metadata": {
  "kernelspec": {
   "display_name": "Python 3.9.12 ('base': conda)",
   "language": "python",
   "name": "python3"
  },
  "language_info": {
   "codemirror_mode": {
    "name": "ipython",
    "version": 3
   },
   "file_extension": ".py",
   "mimetype": "text/x-python",
   "name": "python",
   "nbconvert_exporter": "python",
   "pygments_lexer": "ipython3",
   "version": "3.9.12"
  },
  "orig_nbformat": 4,
  "vscode": {
   "interpreter": {
    "hash": "3118533edb6c7d8ba082708b4f86530d5c9a50760e08959c125d265eab50212d"
   }
  }
 },
 "nbformat": 4,
 "nbformat_minor": 2
}
