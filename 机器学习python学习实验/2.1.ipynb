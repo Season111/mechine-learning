{
 "cells": [
  {
   "cell_type": "code",
   "execution_count": 1,
   "metadata": {},
   "outputs": [
    {
     "name": "stdout",
     "output_type": "stream",
     "text": [
      "25\n",
      "3\n"
     ]
    }
   ],
   "source": [
    "def countNum(*numbers):\n",
    "    total=0\n",
    "    for n in numbers:\n",
    "        total = total + n\n",
    "    return total\n",
    "print(countNum(1, 3, 5, 7, 9))\n",
    "\n",
    "def lcm(num1,num2):\n",
    "    b = []\n",
    "    for i in range(1,(num1 * num2)+1):\n",
    "        if i % num1 == 0 and i % num2 == 0:\n",
    "            b.append(i)\n",
    "            break\n",
    "    return b[0]\n",
    "num1=int(input())\n",
    "num2=int(input())\n",
    "print(lcm(num1, num2))\n",
    " "
   ]
  }
 ],
 "metadata": {
  "kernelspec": {
   "display_name": "Python 3.8.13 ('mindspore': conda)",
   "language": "python",
   "name": "python3"
  },
  "language_info": {
   "codemirror_mode": {
    "name": "ipython",
    "version": 3
   },
   "file_extension": ".py",
   "mimetype": "text/x-python",
   "name": "python",
   "nbconvert_exporter": "python",
   "pygments_lexer": "ipython3",
   "version": "3.8.13"
  },
  "orig_nbformat": 4,
  "vscode": {
   "interpreter": {
    "hash": "fd66c1ceb77ed659473192727f2f130f488a1b3f89f93f2a4194650289467c02"
   }
  }
 },
 "nbformat": 4,
 "nbformat_minor": 2
}
