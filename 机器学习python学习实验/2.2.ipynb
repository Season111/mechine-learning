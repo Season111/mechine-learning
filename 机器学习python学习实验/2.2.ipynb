{
 "cells": [
  {
   "cell_type": "code",
   "execution_count": 1,
   "metadata": {},
   "outputs": [
    {
     "name": "stdout",
     "output_type": "stream",
     "text": [
      "for输出值: 55\n",
      "while-break输出值: 55\n",
      "1\n",
      "2\n",
      "3\n",
      "4\n",
      "5\n",
      "6\n",
      "7\n",
      "8\n",
      "9\n",
      "10\n",
      "11\n",
      "12\n",
      "13\n",
      "14\n",
      "15\n",
      "16\n",
      "17\n",
      "18\n",
      "19\n",
      "20\n",
      "21\n",
      "22\n",
      "23\n",
      "24\n",
      "25\n",
      "26\n",
      "27\n",
      "28\n",
      "29\n",
      "30\n",
      "31\n",
      "32\n",
      "34\n",
      "35\n",
      "36\n",
      "37\n",
      "38\n",
      "39\n",
      "40\n",
      "['3', '100']\n",
      "['100', '30']\n",
      "['2', '32']\n"
     ]
    }
   ],
   "source": [
    "#用for从1-11 进行累加，输出结果\n",
    "sum=0\n",
    "for x in range(1,11): #数值1~10\n",
    "    sum=sum+x\n",
    "print(\"for输出值:\",sum)\n",
    "\n",
    "# 先输入A,B （A=11，B=1）用while，break 进行上述累加，输出结果，当输入的B为0时做break处理\n",
    "A = 11\n",
    "B = 1\n",
    "total=0\n",
    "while B < A:\n",
    "    total=total+B\n",
    "    B = B + 1\n",
    "    if  B == 0:\n",
    "        break\n",
    "print(\"while-break输出值:\",total)\n",
    "\n",
    "\n",
    "#按学号点名（1-40），发现有人没来，直接调到下一人，全部点名后，跳出循环\n",
    "#假设33号同学没来\n",
    "n = 0\n",
    "while n < 40:\n",
    "    n = n + 1\n",
    "    if n == 33:      # 如果n是33号同学\n",
    "        continue        # continue语句会直接继续下一轮循环，后续的print()语句不会执行\n",
    "    print(n)\n",
    "\n",
    "#分别输入3位学生的ML和MLTP的成绩，并且循环遍历成绩输出（第i为同学的两个成绩）\n",
    "score = [[0 for m in range(2)] for n in range(3)]\n",
    "k = 0\n",
    "while(k<=2):\n",
    "    l = 0\n",
    "    while(l<=1):\n",
    "        score[k][l] =  input()\n",
    "        l += 1\n",
    "    k += 1\n",
    "for i in range(0, 3):\n",
    "    print(score[i])\n"
   ]
  },
  {
   "cell_type": "code",
   "execution_count": 2,
   "metadata": {},
   "outputs": [
    {
     "name": "stdout",
     "output_type": "stream",
     "text": [
      "1 2 3 4 "
     ]
    }
   ],
   "source": [
    "list=[1,2,3,4]\n",
    "it = iter(list)    # 创建迭代器对象\n",
    "for x in it:\n",
    "    print (x, end=\" \")"
   ]
  }
 ],
 "metadata": {
  "kernelspec": {
   "display_name": "Python 3.8.13 ('mindspore': conda)",
   "language": "python",
   "name": "python3"
  },
  "language_info": {
   "codemirror_mode": {
    "name": "ipython",
    "version": 3
   },
   "file_extension": ".py",
   "mimetype": "text/x-python",
   "name": "python",
   "nbconvert_exporter": "python",
   "pygments_lexer": "ipython3",
   "version": "3.8.13"
  },
  "orig_nbformat": 4,
  "vscode": {
   "interpreter": {
    "hash": "fd66c1ceb77ed659473192727f2f130f488a1b3f89f93f2a4194650289467c02"
   }
  }
 },
 "nbformat": 4,
 "nbformat_minor": 2
}
