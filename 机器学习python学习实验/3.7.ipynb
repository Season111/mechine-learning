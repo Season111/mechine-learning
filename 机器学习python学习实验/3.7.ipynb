{
 "cells": [
  {
   "cell_type": "code",
   "execution_count": 10,
   "metadata": {},
   "outputs": [
    {
     "name": "stdout",
     "output_type": "stream",
     "text": [
      "5.0\n",
      "4.333112284370844\n",
      "2.2\n"
     ]
    }
   ],
   "source": [
    "#设置二维向量类Vector2d，有坐标(x,y)，构造方法中通过参数设置2个私有数据成员 x、y;\n",
    "class Vector2d:\n",
    "    def __init__(self, x, y):\n",
    "        self.x = x\n",
    "        self.y = y\n",
    "#定义length计算向量长度，返回浮点数\n",
    "    def length(self):\n",
    "        return (self.x**2 + self.y**2)**0.5\n",
    "#给定直线a过(x_1,y_1)和原点，和另一条线过原点和(x_2,y_2)的直线b，计算过原点的a线在b线上的投影。\n",
    "#返回投影向量长度\n",
    "    def projection(self, x_1, y_1, x_2, y_2):\n",
    "        a = (x_1*x_2 + y_1*y_2)/(x_2**2 + y_2**2)\n",
    "        return Vector2d(a*x_2, a*y_2)\n",
    "#测试\n",
    "v = Vector2d(3, 4)\n",
    "print(v.length())\n",
    "#测试直线a过(3,4)和原点，另一条线过原点和(7,3)和原点的直线b，计算过原点的a线在b线上的投影。\n",
    "print(v.projection(3, 4, 7, 3).length())\n",
    "#测试直线a过(1,2)和原点，另一条线过原点和(3,4)和原点的直线b，计算过原点的a线在b线上的投影。\n",
    "print(v.projection(1, 2, 3, 4).length())"
   ]
  },
  {
   "cell_type": "code",
   "execution_count": 12,
   "metadata": {},
   "outputs": [
    {
     "name": "stdout",
     "output_type": "stream",
     "text": [
      "7.0710678118654755\n",
      "5.461005461008192\n",
      "2.4130024130036194\n"
     ]
    }
   ],
   "source": [
    "#1、设置三维向量类Vector3d，有坐标(x,y,z)，构造方法中通过参数设置3 个私有数据成员 x、y、z；\n",
    "class Vector3d:\n",
    "    def __init__(self, x, y, z):\n",
    "        self.x = x\n",
    "        self.y = y\n",
    "        self.z = z\n",
    "#2、定义length计算向量长度，返回浮点数\n",
    "    def length(self):\n",
    "        return (self.x**2 + self.y**2 + self.z**2)**0.5\n",
    "#3、给定直线a过(x_1,y_1,z_1)和原点，和另一条线过原点和(x_2,y_2,z_2)的直线b，计算过原点的a线在b线上的投影。\n",
    "#返回投影向量长度\n",
    "    def projection(self, x_1, y_1, z_1, x_2, y_2, z_2):\n",
    "        a = (x_1*x_2 + y_1*y_2 + z_1*z_2)/(x_2**2 + y_2**2 + z_2**2)\n",
    "        return Vector3d(a*x_2, a*y_2, a*z_2)\n",
    "#4、测试\n",
    "v = Vector3d(3, 4, 5)\n",
    "print(v.length())\n",
    "#测试直线a过(3,4,5)和原点，另一条线过原点和(7,3,2)和原点的直线b，计算过原点的a线在b线上的投影。\n",
    "print(v.projection(3, 4, 5, 7, 3, 2).length())\n",
    "print(v.projection(1, 2, 3, 7, 3, 2).length())"
   ]
  }
 ],
 "metadata": {
  "kernelspec": {
   "display_name": "Python 3.8.13 ('mindspore': conda)",
   "language": "python",
   "name": "python3"
  },
  "language_info": {
   "codemirror_mode": {
    "name": "ipython",
    "version": 3
   },
   "file_extension": ".py",
   "mimetype": "text/x-python",
   "name": "python",
   "nbconvert_exporter": "python",
   "pygments_lexer": "ipython3",
   "version": "3.8.13"
  },
  "orig_nbformat": 4,
  "vscode": {
   "interpreter": {
    "hash": "fd66c1ceb77ed659473192727f2f130f488a1b3f89f93f2a4194650289467c02"
   }
  }
 },
 "nbformat": 4,
 "nbformat_minor": 2
}
