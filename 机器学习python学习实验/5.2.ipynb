{
 "cells": [
  {
   "cell_type": "code",
   "execution_count": 10,
   "metadata": {},
   "outputs": [
    {
     "name": "stdout",
     "output_type": "stream",
     "text": [
      "[ 1  3  5  9 10 15]\n",
      "[3 4 0 1 2]\n",
      "[1 3 4 5 9]\n",
      "[4 5 9 1 3]\n",
      "[[1 2 0 3]\n",
      " [1 0 3 2]\n",
      " [1 3 2 0]]\n"
     ]
    },
    {
     "ename": "IndexError",
     "evalue": "index 3 is out of bounds for axis 0 with size 3",
     "output_type": "error",
     "traceback": [
      "\u001b[0;31m---------------------------------------------------------------------------\u001b[0m",
      "\u001b[0;31mIndexError\u001b[0m                                Traceback (most recent call last)",
      "\u001b[1;32m/home/seasonhpc/pyprograme/mindspore/机器学习python学习实验/5.2.ipynb Cell 1\u001b[0m in \u001b[0;36m<cell line: 44>\u001b[0;34m()\u001b[0m\n\u001b[1;32m     <a href='vscode-notebook-cell://ssh-remote%2Blanke/home/seasonhpc/pyprograme/mindspore/%E6%9C%BA%E5%99%A8%E5%AD%A6%E4%B9%A0python%E5%AD%A6%E4%B9%A0%E5%AE%9E%E9%AA%8C/5.2.ipynb#W0sdnNjb2RlLXJlbW90ZQ%3D%3D?line=42'>43</a>\u001b[0m     \u001b[39mfilter\u001b[39m(a)\n\u001b[1;32m     <a href='vscode-notebook-cell://ssh-remote%2Blanke/home/seasonhpc/pyprograme/mindspore/%E6%9C%BA%E5%99%A8%E5%AD%A6%E4%B9%A0python%E5%AD%A6%E4%B9%A0%E5%AE%9E%E9%AA%8C/5.2.ipynb#W0sdnNjb2RlLXJlbW90ZQ%3D%3D?line=43'>44</a>\u001b[0m \u001b[39mif\u001b[39;00m \u001b[39m__name__\u001b[39m \u001b[39m==\u001b[39m \u001b[39m'\u001b[39m\u001b[39m__main__\u001b[39m\u001b[39m'\u001b[39m:\n\u001b[0;32m---> <a href='vscode-notebook-cell://ssh-remote%2Blanke/home/seasonhpc/pyprograme/mindspore/%E6%9C%BA%E5%99%A8%E5%AD%A6%E4%B9%A0python%E5%AD%A6%E4%B9%A0%E5%AE%9E%E9%AA%8C/5.2.ipynb#W0sdnNjb2RlLXJlbW90ZQ%3D%3D?line=44'>45</a>\u001b[0m     main()\n",
      "\u001b[1;32m/home/seasonhpc/pyprograme/mindspore/机器学习python学习实验/5.2.ipynb Cell 1\u001b[0m in \u001b[0;36mmain\u001b[0;34m()\u001b[0m\n\u001b[1;32m     <a href='vscode-notebook-cell://ssh-remote%2Blanke/home/seasonhpc/pyprograme/mindspore/%E6%9C%BA%E5%99%A8%E5%AD%A6%E4%B9%A0python%E5%AD%A6%E4%B9%A0%E5%AE%9E%E9%AA%8C/5.2.ipynb#W0sdnNjb2RlLXJlbW90ZQ%3D%3D?line=37'>38</a>\u001b[0m \u001b[39mprint\u001b[39m(sort(a))\n\u001b[1;32m     <a href='vscode-notebook-cell://ssh-remote%2Blanke/home/seasonhpc/pyprograme/mindspore/%E6%9C%BA%E5%99%A8%E5%AD%A6%E4%B9%A0python%E5%AD%A6%E4%B9%A0%E5%AE%9E%E9%AA%8C/5.2.ipynb#W0sdnNjb2RlLXJlbW90ZQ%3D%3D?line=38'>39</a>\u001b[0m sort_index()\n\u001b[0;32m---> <a href='vscode-notebook-cell://ssh-remote%2Blanke/home/seasonhpc/pyprograme/mindspore/%E6%9C%BA%E5%99%A8%E5%AD%A6%E4%B9%A0python%E5%AD%A6%E4%B9%A0%E5%AE%9E%E9%AA%8C/5.2.ipynb#W0sdnNjb2RlLXJlbW90ZQ%3D%3D?line=39'>40</a>\u001b[0m sort_row()\n\u001b[1;32m     <a href='vscode-notebook-cell://ssh-remote%2Blanke/home/seasonhpc/pyprograme/mindspore/%E6%9C%BA%E5%99%A8%E5%AD%A6%E4%B9%A0python%E5%AD%A6%E4%B9%A0%E5%AE%9E%E9%AA%8C/5.2.ipynb#W0sdnNjb2RlLXJlbW90ZQ%3D%3D?line=40'>41</a>\u001b[0m sort_col()\n\u001b[1;32m     <a href='vscode-notebook-cell://ssh-remote%2Blanke/home/seasonhpc/pyprograme/mindspore/%E6%9C%BA%E5%99%A8%E5%AD%A6%E4%B9%A0python%E5%AD%A6%E4%B9%A0%E5%AE%9E%E9%AA%8C/5.2.ipynb#W0sdnNjb2RlLXJlbW90ZQ%3D%3D?line=41'>42</a>\u001b[0m a\u001b[39m=\u001b[39mnp\u001b[39m.\u001b[39marray([\u001b[39m1\u001b[39m,\u001b[39m31\u001b[39m,\u001b[39m2\u001b[39m,\u001b[39m10\u001b[39m,\u001b[39m9\u001b[39m,\u001b[39m5\u001b[39m,\u001b[39m16\u001b[39m,\u001b[39m22\u001b[39m,\u001b[39m17\u001b[39m])\n",
      "\u001b[1;32m/home/seasonhpc/pyprograme/mindspore/机器学习python学习实验/5.2.ipynb Cell 1\u001b[0m in \u001b[0;36msort_row\u001b[0;34m()\u001b[0m\n\u001b[1;32m     <a href='vscode-notebook-cell://ssh-remote%2Blanke/home/seasonhpc/pyprograme/mindspore/%E6%9C%BA%E5%99%A8%E5%AD%A6%E4%B9%A0python%E5%AD%A6%E4%B9%A0%E5%AE%9E%E9%AA%8C/5.2.ipynb#W0sdnNjb2RlLXJlbW90ZQ%3D%3D?line=18'>19</a>\u001b[0m b\u001b[39m=\u001b[39mnp\u001b[39m.\u001b[39margsort(a,axis\u001b[39m=\u001b[39m\u001b[39m1\u001b[39m)\n\u001b[1;32m     <a href='vscode-notebook-cell://ssh-remote%2Blanke/home/seasonhpc/pyprograme/mindspore/%E6%9C%BA%E5%99%A8%E5%AD%A6%E4%B9%A0python%E5%AD%A6%E4%B9%A0%E5%AE%9E%E9%AA%8C/5.2.ipynb#W0sdnNjb2RlLXJlbW90ZQ%3D%3D?line=19'>20</a>\u001b[0m \u001b[39mprint\u001b[39m(b)\n\u001b[0;32m---> <a href='vscode-notebook-cell://ssh-remote%2Blanke/home/seasonhpc/pyprograme/mindspore/%E6%9C%BA%E5%99%A8%E5%AD%A6%E4%B9%A0python%E5%AD%A6%E4%B9%A0%E5%AE%9E%E9%AA%8C/5.2.ipynb#W0sdnNjb2RlLXJlbW90ZQ%3D%3D?line=20'>21</a>\u001b[0m \u001b[39mprint\u001b[39m(a[b])\n\u001b[1;32m     <a href='vscode-notebook-cell://ssh-remote%2Blanke/home/seasonhpc/pyprograme/mindspore/%E6%9C%BA%E5%99%A8%E5%AD%A6%E4%B9%A0python%E5%AD%A6%E4%B9%A0%E5%AE%9E%E9%AA%8C/5.2.ipynb#W0sdnNjb2RlLXJlbW90ZQ%3D%3D?line=21'>22</a>\u001b[0m \u001b[39mprint\u001b[39m(a)\n",
      "\u001b[0;31mIndexError\u001b[0m: index 3 is out of bounds for axis 0 with size 3"
     ]
    }
   ],
   "source": [
    "import numpy as np\n",
    "#利用函数升序排列 a=np.array([5,9,1,15,3,10])\n",
    "def sort(a):\n",
    "    for i in range(len(a)):\n",
    "        for j in range(i+1,len(a)):\n",
    "            if a[i]>a[j]:\n",
    "                a[i],a[j]=a[j],a[i]\n",
    "    return a\n",
    "#按索引值创建有序排列 a=np.array([4,5,9,1,3])\n",
    "def sort_index():\n",
    "    a=np.array([4,5,9,1,3])\n",
    "    b=np.argsort(a)\n",
    "    print(b)\n",
    "    print(a[b])\n",
    "    print(a)\n",
    "#按行分别排序a=np.array([[8,1,5,9],[5,4,9,6],[7,1,5,3]])\n",
    "def sort_row():\n",
    "    a=np.array([[8,1,5,9],[5,4,9,6],[7,1,5,3]])\n",
    "    b=np.argsort(a,axis=1)\n",
    "    print(b)\n",
    "    print(a[b])\n",
    "    print(a)\n",
    "#按列分别排序a=np.array([[8,1,5,9],[5,4,9,6],[7,1,5,3]])\n",
    "def sort_col():\n",
    "    a=np.array([[8,1,5,9],[5,4,9,6],[7,1,5,3]])\n",
    "    b=np.argsort(a,axis=0)\n",
    "    print(b)\n",
    "    print(a[b])\n",
    "    print(a)\n",
    "#按利用函数筛选值大于10的值 a=np.array([1,31,2,10,9,5,16,22,17])\n",
    "def filter(a):\n",
    "    for i in range(len(a)):\n",
    "        if a[i]<=10:\n",
    "            a[i]=0\n",
    "    print(a)\n",
    "def main():\n",
    "    a=np.array([5,9,1,15,3,10])\n",
    "    print(sort(a))\n",
    "    sort_index()\n",
    "    sort_row()\n",
    "    sort_col()\n",
    "    a=np.array([1,31,2,10,9,5,16,22,17])\n",
    "    filter(a)\n",
    "if __name__ == '__main__':\n",
    "    main()"
   ]
  },
  {
   "cell_type": "code",
   "execution_count": 15,
   "metadata": {},
   "outputs": [
    {
     "name": "stdout",
     "output_type": "stream",
     "text": [
      "[['4.3' '3' '1.1' '0.1' 'Iris-setosa']\n",
      " ['4.4' '2.9' '1.4' '0.2' 'Iris-setosa']\n",
      " ['4.4' '3' '1.3' '0.2' 'Iris-setosa']\n",
      " ['4.4' '3.2' '1.3' '0.2' 'Iris-setosa']\n",
      " ['4.5' '2.3' '1.3' '0.3' 'Iris-setosa']\n",
      " ['4.6' '3.6' '1' '0.2' 'Iris-setosa']\n",
      " ['4.6' '3.1' '1.5' '0.2' 'Iris-setosa']\n",
      " ['4.6' '3.2' '1.4' '0.2' 'Iris-setosa']\n",
      " ['4.6' '3.4' '1.4' '0.3' 'Iris-setosa']\n",
      " ['4.7' '3.2' '1.3' '0.2' 'Iris-setosa']\n",
      " ['4.7' '3.2' '1.6' '0.2' 'Iris-setosa']\n",
      " ['4.8' '3.4' '1.9' '0.2' 'Iris-setosa']\n",
      " ['4.8' '3.1' '1.6' '0.2' 'Iris-setosa']\n",
      " ['4.8' '3' '1.4' '0.1' 'Iris-setosa']\n",
      " ['4.8' '3.4' '1.6' '0.2' 'Iris-setosa']\n",
      " ['4.8' '3' '1.4' '0.3' 'Iris-setosa']\n",
      " ['4.9' '3.1' '1.5' '0.1' 'Iris-setosa']\n",
      " ['4.9' '3.1' '1.5' '0.1' 'Iris-setosa']\n",
      " ['4.9' '3.1' '1.5' '0.1' 'Iris-setosa']\n",
      " ['4.9' '3' '1.4' '0.2' 'Iris-setosa']\n",
      " ['5' '3.5' '1.3' '0.3' 'Iris-setosa']\n",
      " ['5' '3.2' '1.2' '0.2' 'Iris-setosa']\n",
      " ['5' '3.5' '1.6' '0.6' 'Iris-setosa']\n",
      " ['5' '3.4' '1.6' '0.4' 'Iris-setosa']\n",
      " ['5' '3' '1.6' '0.2' 'Iris-setosa']\n",
      " ['5' '3.3' '1.4' '0.2' 'Iris-setosa']\n",
      " ['5' '3.6' '1.4' '0.2' 'Iris-setosa']\n",
      " ['5' '3.4' '1.5' '0.2' 'Iris-setosa']\n",
      " ['5.1' '3.3' '1.7' '0.5' 'Iris-setosa']\n",
      " ['5.1' '3.8' '1.6' '0.2' 'Iris-setosa']\n",
      " ['5.1' '3.8' '1.9' '0.4' 'Iris-setosa']\n",
      " ['5.1' '3.4' '1.5' '0.2' 'Iris-setosa']\n",
      " ['5.1' '3.8' '1.5' '0.3' 'Iris-setosa']\n",
      " ['5.1' '3.5' '1.4' '0.3' 'Iris-setosa']\n",
      " ['5.1' '3.7' '1.5' '0.4' 'Iris-setosa']\n",
      " ['5.1' '3.5' '1.4' '0.2' 'Iris-setosa']\n",
      " ['5.2' '4.1' '1.5' '0.1' 'Iris-setosa']\n",
      " ['5.2' '3.4' '1.4' '0.2' 'Iris-setosa']\n",
      " ['5.2' '3.5' '1.5' '0.2' 'Iris-setosa']\n",
      " ['5.3' '3.7' '1.5' '0.2' 'Iris-setosa']\n",
      " ['5.4' '3.9' '1.3' '0.4' 'Iris-setosa']\n",
      " ['5.4' '3.4' '1.5' '0.4' 'Iris-setosa']\n",
      " ['5.4' '3.7' '1.5' '0.2' 'Iris-setosa']\n",
      " ['5.4' '3.4' '1.7' '0.2' 'Iris-setosa']\n",
      " ['5.4' '3.9' '1.7' '0.4' 'Iris-setosa']\n",
      " ['5.5' '3.5' '1.3' '0.2' 'Iris-setosa']\n",
      " ['5.5' '4.2' '1.4' '0.2' 'Iris-setosa']\n",
      " ['5.7' '3.8' '1.7' '0.3' 'Iris-setosa']\n",
      " ['5.7' '4.4' '1.5' '0.4' 'Iris-setosa']\n",
      " ['5.8' '4' '1.2' '0.2' 'Iris-setosa']]\n"
     ]
    }
   ],
   "source": [
    "#读取文件iris.data内容转换为结构化数组并筛选出一类鸢尾花（可以提前指定），并按第一列排序输出\n",
    "import numpy as np\n",
    "#读取文件iris.data内容转换为结构化数组  \n",
    "def read_file():\n",
    "    a=np.loadtxt('Iris.data',delimiter=',',dtype='str')\n",
    "    b=np.array(a)\n",
    "    return b\n",
    "#筛选出一类鸢尾花（可以提前指定），并按第一列排序输出\n",
    "def filter_sort():\n",
    "    a=read_file()\n",
    "    b=a[a[:,4]=='Iris-setosa']\n",
    "    c=np.argsort(b[:,0])\n",
    "    print(b[c])\n",
    "if __name__ == '__main__':\n",
    "    filter_sort()"
   ]
  }
 ],
 "metadata": {
  "kernelspec": {
   "display_name": "Python 3.8.13 (conda)",
   "language": "python",
   "name": "python3"
  },
  "language_info": {
   "codemirror_mode": {
    "name": "ipython",
    "version": 3
   },
   "file_extension": ".py",
   "mimetype": "text/x-python",
   "name": "python",
   "nbconvert_exporter": "python",
   "pygments_lexer": "ipython3",
   "version": "3.8.13"
  },
  "orig_nbformat": 4,
  "vscode": {
   "interpreter": {
    "hash": "fd66c1ceb77ed659473192727f2f130f488a1b3f89f93f2a4194650289467c02"
   }
  }
 },
 "nbformat": 4,
 "nbformat_minor": 2
}
