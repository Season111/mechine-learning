{
 "cells": [
  {
   "cell_type": "code",
   "execution_count": 2,
   "metadata": {},
   "outputs": [
    {
     "name": "stdout",
     "output_type": "stream",
     "text": [
      "['10']\n"
     ]
    }
   ],
   "source": [
    "class WrapClass(object):\n",
    "\n",
    "    def __init__(self,obj):\n",
    "\n",
    "        self.__obj = obj\n",
    "\n",
    "    def get(self):\n",
    "\n",
    "        return self.__obj\n",
    "\n",
    "    def __repr__(self):\n",
    "\n",
    "        return 'self.__obj'\n",
    "\n",
    "    def __str__(self):\n",
    "\n",
    "        return str(self.__obj)\n",
    "    def __getattr__(self,name):\n",
    "\n",
    "        return getattr(self.__obj,name)\n",
    "\n",
    "thelist = []\n",
    "\n",
    "inputlist = input()\n",
    "\n",
    "for i in inputlist.split(','):\n",
    "\n",
    "    result = i\n",
    "\n",
    "    thelist.append(result)\n",
    "\n",
    "wr = WrapClass(thelist)\n",
    "\n",
    "wr_list = wr.get()\n",
    "\n",
    "print(wr_list)"
   ]
  }
 ],
 "metadata": {
  "kernelspec": {
   "display_name": "Python 3.8.13 ('mindspore': conda)",
   "language": "python",
   "name": "python3"
  },
  "language_info": {
   "codemirror_mode": {
    "name": "ipython",
    "version": 3
   },
   "file_extension": ".py",
   "mimetype": "text/x-python",
   "name": "python",
   "nbconvert_exporter": "python",
   "pygments_lexer": "ipython3",
   "version": "3.8.13"
  },
  "orig_nbformat": 4,
  "vscode": {
   "interpreter": {
    "hash": "fd66c1ceb77ed659473192727f2f130f488a1b3f89f93f2a4194650289467c02"
   }
  }
 },
 "nbformat": 4,
 "nbformat_minor": 2
}
