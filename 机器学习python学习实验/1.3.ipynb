{
 "cells": [
  {
   "cell_type": "code",
   "execution_count": 4,
   "metadata": {},
   "outputs": [
    {
     "name": "stdout",
     "output_type": "stream",
     "text": [
      "my_tuple[0]:  fish\n",
      "my_tuple[1:5]:  ('orange', 'potato', 'carrot', 'onion')\n",
      "my_tuple[5]:  garlic\n",
      "('fish', 'orange', 'beef', 'carrot', 'onion', 'garlic')\n",
      "6\n",
      "potato\n",
      "['fish', 'orange', 'potato', 'carrot', 'onion', 'garlic']\n"
     ]
    }
   ],
   "source": [
    "my_tuple = ('fish','orange','potato','carrot','onion','garlic')\n",
    "print( \"my_tuple[0]: \", my_tuple[0])\n",
    "print( \"my_tuple[1:5]: \", my_tuple[1:5])\n",
    "print( \"my_tuple[5]: \", my_tuple[5])\n",
    "my_tuple1=my_tuple[:2]+('beef',)+my_tuple[3:]\n",
    "print(my_tuple1)\n",
    "print(len(my_tuple))\n",
    "print(max(my_tuple))\n",
    "my_list = list(my_tuple)\n",
    "print(my_list)"
   ]
  },
  {
   "cell_type": "code",
   "execution_count": 1,
   "metadata": {},
   "outputs": [
    {
     "name": "stdout",
     "output_type": "stream",
     "text": [
      "{'fish': 2, 'orange': 3, 'potato': 4, 'carrot': 0.5, 'onion': 1, 'garlic': 1, 'vegetable': 4}\n",
      "{'fish': 2, 'orange': 3, 'potato': 4, 'carrot': 0.5, 'onion': 1, 'garlic': 1, 'vegetable': 5}\n",
      "fish\n",
      "orange\n",
      "potato\n",
      "carrot\n",
      "onion\n",
      "garlic\n",
      "vegetable\n",
      "2\n",
      "3\n",
      "4\n",
      "0.5\n",
      "1\n",
      "1\n",
      "5\n",
      "{'fish': 2, 'orange': 3, 'potato': 4, 'carrot': 0.5, 'onion': 1, 'garlic': 1}\n",
      "{'fish': 2, 'orange': 3, 'potato': 4, 'carrot': 0.5}\n",
      "{'carrot': 0.5, 'onion': 1, 'garlic': 1}\n"
     ]
    }
   ],
   "source": [
    "shopping_list = ['fish','orange','potato','carrot','onion','garlic']\n",
    "\n",
    "shopping_weight= ['2','3','4','0.5','1','1']\n",
    "\n",
    "shopping = {'fish':2,'orange':3,'potato':4,'carrot':0.5,'onion':1,'garlic':1}\n",
    "\n",
    "shopping.setdefault('vegetable',4)\n",
    "\n",
    "print(shopping)\n",
    "\n",
    "shopping['vegetable']=5\n",
    "\n",
    "print(shopping)\n",
    "\n",
    "\n",
    "for key in shopping:\n",
    "    print (key)\n",
    "\n",
    "for value in shopping.values():\n",
    "    print (value)\n",
    "\n",
    "A_shopping = {'fish':2,'orange':3,'potato':4,'carrot':0.5,'onion':1,'garlic':1}\n",
    "B_shopping = {'fish':2,'orange':3,'potato':4,'carrot':0.5}\n",
    "wo_shpping = {'carrot':0.5,'onion':1,'garlic':1}\n",
    "shopper = [A_shopping,B_shopping,wo_shpping]\n",
    "for shop in shopper:\n",
    "    print(shop)\n",
    "\n",
    "\n"
   ]
  }
 ],
 "metadata": {
  "kernelspec": {
   "display_name": "Python 3.8.13 (conda)",
   "language": "python",
   "name": "python3"
  },
  "language_info": {
   "codemirror_mode": {
    "name": "ipython",
    "version": 3
   },
   "file_extension": ".py",
   "mimetype": "text/x-python",
   "name": "python",
   "nbconvert_exporter": "python",
   "pygments_lexer": "ipython3",
   "version": "3.8.13"
  },
  "orig_nbformat": 4,
  "vscode": {
   "interpreter": {
    "hash": "fd66c1ceb77ed659473192727f2f130f488a1b3f89f93f2a4194650289467c02"
   }
  }
 },
 "nbformat": 4,
 "nbformat_minor": 2
}
