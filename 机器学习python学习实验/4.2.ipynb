{
 "cells": [
  {
   "cell_type": "code",
   "execution_count": 1,
   "metadata": {},
   "outputs": [
    {
     "name": "stdout",
     "output_type": "stream",
     "text": [
      "西北的青年莫要再耽延，\n",
      "割断我们长衫抛却我们浪漫。\n"
     ]
    }
   ],
   "source": [
    "#输出文本文件 testdoc.txt 的前n行信息，文本文件 testdoc.txt 和测试代码在同一目录下，n在程序中指定，且输出的信息中间不能有空行，testdoc.txt 内容可自行给出，需要补充下列代码：\n",
    "n=2\n",
    "with open('testdoc.txt') as file_object:\n",
    "    lines = file_object.readlines()\n",
    "for line in lines[:n]:\n",
    "    print(line.rstrip())"
   ]
  },
  {
   "cell_type": "code",
   "execution_count": 2,
   "metadata": {},
   "outputs": [
    {
     "ename": "FileNotFoundError",
     "evalue": "[Errno 2] No such file or directory: 'iris.data'",
     "output_type": "error",
     "traceback": [
      "\u001b[0;31m---------------------------------------------------------------------------\u001b[0m",
      "\u001b[0;31mFileNotFoundError\u001b[0m                         Traceback (most recent call last)",
      "\u001b[1;32m/home/seasonhpc/pyprograme/mindspore/机器学习python学习实验/4.2.ipynb Cell 2\u001b[0m in \u001b[0;36m<cell line: 3>\u001b[0;34m()\u001b[0m\n\u001b[1;32m      <a href='vscode-notebook-cell://ssh-remote%2Blanke/home/seasonhpc/pyprograme/mindspore/%E6%9C%BA%E5%99%A8%E5%AD%A6%E4%B9%A0python%E5%AD%A6%E4%B9%A0%E5%AE%9E%E9%AA%8C/4.2.ipynb#W1sdnNjb2RlLXJlbW90ZQ%3D%3D?line=0'>1</a>\u001b[0m \u001b[39m#如何在文件头部插入一行数据，例如在iris.data的第一行插入属性名，\u001b[39;00m\n\u001b[1;32m      <a href='vscode-notebook-cell://ssh-remote%2Blanke/home/seasonhpc/pyprograme/mindspore/%E6%9C%BA%E5%99%A8%E5%AD%A6%E4%B9%A0python%E5%AD%A6%E4%B9%A0%E5%AE%9E%E9%AA%8C/4.2.ipynb#W1sdnNjb2RlLXJlbW90ZQ%3D%3D?line=1'>2</a>\u001b[0m s\u001b[39m=\u001b[39m\u001b[39m'\u001b[39m\u001b[39mSepalLength,SepalWidth,PetalLength,PetalWidth,Class\u001b[39m\u001b[39m'\u001b[39m\n\u001b[0;32m----> <a href='vscode-notebook-cell://ssh-remote%2Blanke/home/seasonhpc/pyprograme/mindspore/%E6%9C%BA%E5%99%A8%E5%AD%A6%E4%B9%A0python%E5%AD%A6%E4%B9%A0%E5%AE%9E%E9%AA%8C/4.2.ipynb#W1sdnNjb2RlLXJlbW90ZQ%3D%3D?line=2'>3</a>\u001b[0m \u001b[39mwith\u001b[39;00m \u001b[39mopen\u001b[39;49m(\u001b[39m'\u001b[39;49m\u001b[39miris.data\u001b[39;49m\u001b[39m'\u001b[39;49m) \u001b[39mas\u001b[39;00m file_object:\n\u001b[1;32m      <a href='vscode-notebook-cell://ssh-remote%2Blanke/home/seasonhpc/pyprograme/mindspore/%E6%9C%BA%E5%99%A8%E5%AD%A6%E4%B9%A0python%E5%AD%A6%E4%B9%A0%E5%AE%9E%E9%AA%8C/4.2.ipynb#W1sdnNjb2RlLXJlbW90ZQ%3D%3D?line=3'>4</a>\u001b[0m     lines \u001b[39m=\u001b[39m file_object\u001b[39m.\u001b[39mreadlines()\n\u001b[1;32m      <a href='vscode-notebook-cell://ssh-remote%2Blanke/home/seasonhpc/pyprograme/mindspore/%E6%9C%BA%E5%99%A8%E5%AD%A6%E4%B9%A0python%E5%AD%A6%E4%B9%A0%E5%AE%9E%E9%AA%8C/4.2.ipynb#W1sdnNjb2RlLXJlbW90ZQ%3D%3D?line=4'>5</a>\u001b[0m lines\u001b[39m.\u001b[39minsert(\u001b[39m0\u001b[39m,s\u001b[39m+\u001b[39m\u001b[39m'\u001b[39m\u001b[39m\\n\u001b[39;00m\u001b[39m'\u001b[39m)\n",
      "\u001b[0;31mFileNotFoundError\u001b[0m: [Errno 2] No such file or directory: 'iris.data'"
     ]
    }
   ],
   "source": [
    "#如何在文件头部插入一行数据，例如在iris.data的第一行插入属性名，\n",
    "s='SepalLength,SepalWidth,PetalLength,PetalWidth,Class'\n",
    "with open('iris.data') as file_object:\n",
    "    lines = file_object.readlines()\n",
    "lines.insert(0,s+'\\n')\n",
    "with open('iris.data','w') as file_object:\n",
    "    file_object.writelines(lines)"
   ]
  },
  {
   "cell_type": "code",
   "execution_count": 4,
   "metadata": {},
   "outputs": [
    {
     "name": "stdout",
     "output_type": "stream",
     "text": [
      "输入的数据不是数值型\n",
      "['A', '1', '2', '-1']\n"
     ]
    }
   ],
   "source": [
    "#读入文件中的一行数据到listA的值（可以以逗号分割），对listA进行开方计算，如果有小于0的值，或不是数值型的需要报错处理。\n",
    "import math\n",
    "listA = input().split(',')\n",
    "for i in range(len(listA)):\n",
    "    try:\n",
    "        listA[i] = float(listA[i])\n",
    "    except:\n",
    "        print('输入的数据不是数值型')\n",
    "        break\n",
    "    if listA[i] < 0:\n",
    "        print('输入的数据有小于0的值')\n",
    "        break\n",
    "    listA[i] = math.sqrt(listA[i])\n",
    "print(listA)"
   ]
  }
 ],
 "metadata": {
  "kernelspec": {
   "display_name": "Python 3.8.13 ('mindspore': conda)",
   "language": "python",
   "name": "python3"
  },
  "language_info": {
   "codemirror_mode": {
    "name": "ipython",
    "version": 3
   },
   "file_extension": ".py",
   "mimetype": "text/x-python",
   "name": "python",
   "nbconvert_exporter": "python",
   "pygments_lexer": "ipython3",
   "version": "3.8.13"
  },
  "orig_nbformat": 4,
  "vscode": {
   "interpreter": {
    "hash": "fd66c1ceb77ed659473192727f2f130f488a1b3f89f93f2a4194650289467c02"
   }
  }
 },
 "nbformat": 4,
 "nbformat_minor": 2
}
