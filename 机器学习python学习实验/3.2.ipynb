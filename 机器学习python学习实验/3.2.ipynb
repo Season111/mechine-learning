{
 "cells": [
  {
   "cell_type": "code",
   "execution_count": 1,
   "metadata": {},
   "outputs": [],
   "source": [
    "#类的定义，定义一个水果类，包含name,seller,weight,origin 其中sell函数反映每种水果的单价，这里只是打印输出\n",
    "class Fruit:\n",
    "    def __init__(self,name,seller,weight,origin):\n",
    "        self.name = name\n",
    "        self.seller = seller\n",
    "        self.weight = weight\n",
    "        self.origin = origin\n",
    "    def sell(self):\n",
    "        print(\"The price of {} is 5 yuan per kilogram.\".format(self.name))"
   ]
  },
  {
   "cell_type": "code",
   "execution_count": 2,
   "metadata": {},
   "outputs": [
    {
     "name": "stdout",
     "output_type": "stream",
     "text": [
      "My name is Tom, I am in class 1.\n"
     ]
    }
   ],
   "source": [
    "#定义一个学生类student，有班级和姓名两个属性，类中定义函数student_print(self, name, clbum)，打印输出两个属性，然后对类实例化，并调用函数输出结果\n",
    "class Student:\n",
    "    def __init__(self, name, clbum):\n",
    "        self.name = name\n",
    "        self.clbum = clbum\n",
    "    def student_print(self):\n",
    "        print(\"My name is {}, I am in class {}.\".format(self.name, self.clbum))\n",
    "#实例化student类\n",
    "student = Student(\"Tom\", \"1\")\n",
    "#调用student_print函数\n",
    "student.student_print()"
   ]
  },
  {
   "cell_type": "code",
   "execution_count": 3,
   "metadata": {},
   "outputs": [
    {
     "name": "stdout",
     "output_type": "stream",
     "text": [
      "48\n"
     ]
    }
   ],
   "source": [
    "#将之前写的函数，求两个数计算最小公倍数，写入一个类。调用这个类中的函数，打印输出结果\n",
    "class LCM:\n",
    "    def __init__(self, a, b):\n",
    "        self.a = a\n",
    "        self.b = b\n",
    "    def lcm(self):\n",
    "        if self.a > self.b:\n",
    "            greater = self.a\n",
    "        else:\n",
    "            greater = self.b\n",
    "        while(True):\n",
    "            if((greater % self.a == 0) and (greater % self.b == 0)):\n",
    "                lcm = greater\n",
    "                break\n",
    "            greater += 1\n",
    "        return lcm\n",
    "#实例化类\n",
    "lcm = LCM(12, 16)\n",
    "#调用lcm函数\n",
    "print(lcm.lcm())"
   ]
  },
  {
   "cell_type": "code",
   "execution_count": null,
   "metadata": {},
   "outputs": [],
   "source": [
    "class FruitSell:\n",
    "\n",
    "    static_var = 100\n",
    "\n",
    "    def sell(self,name,seller,weight,origin,price):\n",
    "\n",
    "        print(\"%s的销售价格为%d\" %(name,int(price)))\n",
    "\n",
    "    # 设置printStatic()方法声明为静态方法\n",
    "\n",
    "    def printStatic():\n",
    "\n",
    "        print(FruitSell.static_var)\n",
    "\n",
    "    # 设置printOrigin(cls)方法声明为类方法\n",
    "\n",
    "    def printOrigin(cls):\n",
    "\n",
    "        print(cls)\n",
    "#设置两种方法，并说明使用区别。\n",
    "#静态方法：静态方法不需要实例化，不需要self参数，但是第一个参数需要表示自身的类对象，且需要使用@staticmethod进行修饰\n",
    "#类方法：类方法不需要实例化，不需要self参数，但是第一个参数需要表示自身的类对象，且需要使用@classmethod进行修饰\n"
   ]
  }
 ],
 "metadata": {
  "kernelspec": {
   "display_name": "Python 3.8.13 (conda)",
   "language": "python",
   "name": "python3"
  },
  "language_info": {
   "codemirror_mode": {
    "name": "ipython",
    "version": 3
   },
   "file_extension": ".py",
   "mimetype": "text/x-python",
   "name": "python",
   "nbconvert_exporter": "python",
   "pygments_lexer": "ipython3",
   "version": "3.8.13"
  },
  "orig_nbformat": 4,
  "vscode": {
   "interpreter": {
    "hash": "fd66c1ceb77ed659473192727f2f130f488a1b3f89f93f2a4194650289467c02"
   }
  }
 },
 "nbformat": 4,
 "nbformat_minor": 2
}
