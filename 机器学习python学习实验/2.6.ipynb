{
 "cells": [
  {
   "cell_type": "code",
   "execution_count": 2,
   "metadata": {},
   "outputs": [
    {
     "name": "stdout",
     "output_type": "stream",
     "text": [
      "[1, 9, 25, 49]\n",
      "[3, 7, 11, 15]\n"
     ]
    }
   ],
   "source": [
    "#1. 对一个列表序列中的每个数值元素进行平方运算  [1, 3, 5, 7,]\n",
    "a=map(lambda x: x ** 2, [1,3,5,7])  # 使用 lambda 匿名函数\n",
    "print(list(a))  # [1, 9, 25, 49] \n",
    "#2. 将传入的两个序列中的元素依次求和[1, 3, 5, 7] [2, 4, 6, 8]\n",
    "b=map(lambda x, y: x + y, [1, 3, 5, 7], [2, 4, 6, 8])\n",
    "print(list(b))  # [2, 6, 10, 14]"
   ]
  },
  {
   "cell_type": "code",
   "execution_count": 20,
   "metadata": {},
   "outputs": [
    {
     "name": "stdout",
     "output_type": "stream",
     "text": [
      "20 = 2*2*5\n"
     ]
    }
   ],
   "source": [
    "#使用reduce()函数将输入的一个正整数分解质因数，并将结果输出\n",
    "from functools import reduce\n",
    "#分解质因数\n",
    "    # 分解质因数\n",
    "def factor(n):\n",
    "    # 从2开始，逐个判断是否为质数\n",
    "    for i in range(2, n):\n",
    "        if n % i == 0:\n",
    "            # 如果能整除，则分解质因数\n",
    "            return [i] + factor(n // i)\n",
    "    # 如果不能整除，则返回n\n",
    "    return [n]\n",
    "x = int(input())\n",
    "result = reduce(lambda x, y: str(x) + '*' + str(y), factor(x))\n",
    "print(x, '=', result)"
   ]
  },
  {
   "cell_type": "code",
   "execution_count": 21,
   "metadata": {},
   "outputs": [
    {
     "name": "stdout",
     "output_type": "stream",
     "text": [
      "20 = 2*2*5\n"
     ]
    }
   ],
   "source": [
    "#方法二：\n",
    "x=int(input())\n",
    "result = []\n",
    "b = x\n",
    "a = 2\n",
    "for i in range(x):\n",
    "    if (b%a != 0):\n",
    "        a += 1\n",
    "    else:\n",
    "        b = b//a\n",
    "        result.append(a)\n",
    "    if(b<a):\n",
    "        break\n",
    "print(x,'=', '*'.join(map(str,result)))"
   ]
  }
 ],
 "metadata": {
  "kernelspec": {
   "display_name": "Python 3.9.12 (conda)",
   "language": "python",
   "name": "python3"
  },
  "language_info": {
   "codemirror_mode": {
    "name": "ipython",
    "version": 3
   },
   "file_extension": ".py",
   "mimetype": "text/x-python",
   "name": "python",
   "nbconvert_exporter": "python",
   "pygments_lexer": "ipython3",
   "version": "3.9.12"
  },
  "orig_nbformat": 4,
  "vscode": {
   "interpreter": {
    "hash": "3118533edb6c7d8ba082708b4f86530d5c9a50760e08959c125d265eab50212d"
   }
  }
 },
 "nbformat": 4,
 "nbformat_minor": 2
}
