{
 "cells": [
  {
   "cell_type": "code",
   "execution_count": 15,
   "metadata": {},
   "outputs": [
    {
     "name": "stdout",
     "output_type": "stream",
     "text": [
      "a=2,b=1,c=3\n",
      "求和的值为： 6\n"
     ]
    }
   ],
   "source": [
    "#1. 给出a、b、c三个整数，要求实现先交换a、b的值，sum=a+b的值，然后计算sum + c的值并输出。\n",
    "a,b,c = int(input()),int(input()),int(input())\n",
    "d = a\n",
    "a = b\n",
    "b = d\n",
    "print('a=%d,b=%d,c=%d'%(a,b,c))\n",
    "sum = a + b\n",
    "sum = sum + c\n",
    "print(\"求和的值为：\",sum)"
   ]
  },
  {
   "cell_type": "code",
   "execution_count": 18,
   "metadata": {},
   "outputs": [
    {
     "name": "stdout",
     "output_type": "stream",
     "text": [
      "f(2.80) = 6.60\n"
     ]
    }
   ],
   "source": [
    "#分段函数求值\n",
    "#2. 给出一个实数x，要求实现下列分段函数的求值。\n",
    "#f(x) = 3x - 8 (x >= 10)\n",
    "#f(x) = 2x + 1 (1 <= x < 10)\n",
    "#f(x) = x (x < 1)\n",
    "x = float(input())\n",
    "if x >= 10:\n",
    "    y = 3*x - 8\n",
    "elif x >= 1 and x < 10:\n",
    "    y = 2*x + 1\n",
    "else:\n",
    "    y = x\n",
    "print(\"f(%.2f) = %.2f\"%(x,y))"
   ]
  },
  {
   "cell_type": "code",
   "execution_count": 17,
   "metadata": {},
   "outputs": [
    {
     "name": "stdout",
     "output_type": "stream",
     "text": [
      "B\n"
     ]
    }
   ],
   "source": [
    "#输入A和B的值，输出有较大值的变量名（用if else ）\n",
    "A = int(input())\n",
    "B = int(input())\n",
    "if A > B:\n",
    "    print(\"A\")\n",
    "else:\n",
    "    print(\"B\")"
   ]
  }
 ],
 "metadata": {
  "kernelspec": {
   "display_name": "Python 3.9.12 ('base': conda)",
   "language": "python",
   "name": "python3"
  },
  "language_info": {
   "codemirror_mode": {
    "name": "ipython",
    "version": 3
   },
   "file_extension": ".py",
   "mimetype": "text/x-python",
   "name": "python",
   "nbconvert_exporter": "python",
   "pygments_lexer": "ipython3",
   "version": "3.9.12"
  },
  "orig_nbformat": 4,
  "vscode": {
   "interpreter": {
    "hash": "3118533edb6c7d8ba082708b4f86530d5c9a50760e08959c125d265eab50212d"
   }
  }
 },
 "nbformat": 4,
 "nbformat_minor": 2
}
