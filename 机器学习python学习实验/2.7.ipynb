{
 "cells": [
  {
   "cell_type": "code",
   "execution_count": null,
   "metadata": {},
   "outputs": [],
   "source": [
    "import math\n",
    "num = int(input(\"请输入一个正整数：\"))\n",
    "end = int(math.sqrt(num))\n",
    "is_prime = True\n",
    "for x in range(2,end+1):\n",
    "    if num % x == 0:\n",
    "        is_prime = False\n",
    "        break\n",
    "if is_prime and num != 1:\n",
    "    print(\"%d是素数\"%num)\n",
    "else:\n",
    "    print(\"%d不是素数\"%num)"
   ]
  },
  {
   "cell_type": "code",
   "execution_count": null,
   "metadata": {},
   "outputs": [],
   "source": [
    "#读取a，b文件的内容（数字），排序并写入c文件中\n",
    "#!/usr/bin/env python3\n",
    "# Path: pyprograme/mindspore/python学习实验/2.8.ipynb\n",
    "a = open(\"a.txt\")\n",
    "b = open(\"b.txt\")\n",
    "c = open(\"c.txt\",\"w\")\n",
    "a_list = []\n",
    "b_list = []\n",
    "for line in a:\n",
    "    a_list.append(int(line))\n",
    "for line in b:\n",
    "    b_list.append(int(line))\n",
    "a_list.extend(b_list)\n",
    "a_list.sort()\n",
    "for i in a_list:\n",
    "    c.write(str(i)+\"\\n\")\n",
    "a.close()\n",
    "b.close()\n",
    "c.close()"
   ]
  }
 ],
 "metadata": {
  "kernelspec": {
   "display_name": "Python 3.9.12 (conda)",
   "language": "python",
   "name": "python3"
  },
  "language_info": {
   "codemirror_mode": {
    "name": "ipython",
    "version": 3
   },
   "file_extension": ".py",
   "mimetype": "text/x-python",
   "name": "python",
   "nbconvert_exporter": "python",
   "pygments_lexer": "ipython3",
   "version": "3.9.12"
  },
  "orig_nbformat": 4,
  "vscode": {
   "interpreter": {
    "hash": "3118533edb6c7d8ba082708b4f86530d5c9a50760e08959c125d265eab50212d"
   }
  }
 },
 "nbformat": 4,
 "nbformat_minor": 2
}
