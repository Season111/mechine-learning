{
 "cells": [
  {
   "cell_type": "code",
   "execution_count": 3,
   "metadata": {},
   "outputs": [
    {
     "name": "stdout",
     "output_type": "stream",
     "text": [
      "0.0\n",
      "0.0\n",
      "0.0\n",
      "0.0\n",
      "0.0\n",
      "0.0\n",
      "0.0 %\n",
      "0.0\n",
      "0.0\n",
      "0.0\n",
      "0.0\n"
     ]
    }
   ],
   "source": [
    "x86 = [0.000000000000E+00,0.000000000000E+00,0.000000000000E+00,0.000000000000E+00,0.000000000000E+00,0.000000000000E+00,2.500000000000E+01,0.000000000000E+00,0.000000000000E+00,0.000000000000E+00,0.000000000000E+00]\n",
    "arm = [0.000000000000E+000,0.000000000000E+000,0.000000000000E+000,0.000000000000E+000,0.000000000000E+000,0.000000000000E+000,2.500000000000E+001,0.000000000000E+000,0.000000000000E+000,0.000000000000E+000,0.000000000000E+000]\n",
    "\n",
    "\n",
    "for i in range(len(arm)):\n",
    "    if arm[i] == 0:\n",
    "        print(x86[i]-arm[i])\n",
    "    else:\n",
    "        print(abs((x86[i]-arm[i]) / arm[i]) * 100, '%')"
   ]
  }
 ],
 "metadata": {
  "kernelspec": {
   "display_name": "Python 3.8.13 ('mindspore': conda)",
   "language": "python",
   "name": "python3"
  },
  "language_info": {
   "codemirror_mode": {
    "name": "ipython",
    "version": 3
   },
   "file_extension": ".py",
   "mimetype": "text/x-python",
   "name": "python",
   "nbconvert_exporter": "python",
   "pygments_lexer": "ipython3",
   "version": "3.8.13"
  },
  "orig_nbformat": 4,
  "vscode": {
   "interpreter": {
    "hash": "fd66c1ceb77ed659473192727f2f130f488a1b3f89f93f2a4194650289467c02"
   }
  }
 },
 "nbformat": 4,
 "nbformat_minor": 2
}
