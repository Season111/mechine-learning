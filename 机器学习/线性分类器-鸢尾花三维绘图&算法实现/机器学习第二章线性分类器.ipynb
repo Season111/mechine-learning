{
 "cells": [
  {
   "cell_type": "markdown",
   "metadata": {},
   "source": [
    "# <center>《机器学习》— 第二章 线性分类器 </center>\n",
    "\n",
    "### <center>2020 级人工智能专业  姓名：周功海  学号：320190903781</center>\n"
   ]
  },
  {
   "cell_type": "markdown",
   "metadata": {},
   "source": [
    "### 一、 用matplotlib绘制鸢尾花的三维数据\n",
    "![jupyter](./Figures/fig001.png)\n",
    "#### 1. 绘制属性的二维关系图，（类似下图），观察属性和分类标签相关性\n",
    "![jupyter](./Figures/fig002.png)\n",
    "#### 2. 绘制鸢尾花数据的三维数据图，（类似下图，比下图更清晰）\n",
    "![jupyter](./Figures/fig003.png)\n",
    "#### 3. 选择容易分类的两类数据绘制三维数据图，并增加划分正负类的超平面，和线性分类器（类似下图，比下图更清晰）\n",
    "![jupyter](./Figures/fig004.png)\n",
    "![jupyter](./Figures/fig005.png)\n",
    "#### 4. 进一步，在两类数据的三维空间中，给出超平面和线性分类器，并依据（0-1损失函数或其他损失函数）选择好的分类器（类似下图，比下图更清晰）\n",
    "![jupyter](./Figures/fig006.png)\n",
    "#### 5. 根据课件中给出的算法寻找超平面和线性分类器并将每一步寻找的超平面和线性分类器绘制在三维空间中（类似下图，比下图更清晰）\n",
    "![jupyter](./Figures/fig007.png) ![jupyter](./Figures/fig008.png)\n",
    "![jupyter](./Figures/fig009.png) ![jupyter](./Figures/fig010.png)\n",
    "![jupyter](./Figures/fig011.png) ![jupyter](./Figures/fig012.png)\n",
    "![jupyter](./Figures/fig013.png) ![jupyter](./Figures/fig014.png)"
   ]
  }
 ],
 "metadata": {
  "kernelspec": {
   "display_name": "Python 3.9.5 64-bit",
   "language": "python",
   "name": "python3"
  },
  "language_info": {
   "codemirror_mode": {
    "name": "ipython",
    "version": 3
   },
   "file_extension": ".py",
   "mimetype": "text/x-python",
   "name": "python",
   "nbconvert_exporter": "python",
   "pygments_lexer": "ipython3",
   "version": "3.9.5"
  },
  "vscode": {
   "interpreter": {
    "hash": "31f2aee4e71d21fbe5cf8b01ff0e069b9275f58929596ceb00d14d90e3e16cd6"
   }
  }
 },
 "nbformat": 4,
 "nbformat_minor": 4
}
