{
 "cells": [
  {
   "cell_type": "markdown",
   "metadata": {},
   "source": [
    "\n",
    "# <center>《机器学习》— 第三章 感知器 课程作业</center>\n",
    "\n",
    "### <center>2020 级人工智能专业  姓名：周功海  学号：320190903781</center>"
   ]
  },
  {
   "cell_type": "markdown",
   "metadata": {},
   "source": [
    "## 3.1 感知器算法"
   ]
  },
  {
   "cell_type": "markdown",
   "metadata": {},
   "source": [
    "### 3.1.1 分类 \n",
    "考虑一个通过原点的5维线性分类器 W = (2, -3, 2, 1, −1)，下面的4个点最可能被分为正类是哪个，即h(x; W) = +1？为什么？\n",
    "+ 1.(-1, 1, 1, −3, 4) \n",
    "+ 2.(1, 1, 1, 1, 1) \n",
    "+ 3.(−1, −1, −1, −1)\n",
    "+ 4.(1, 2, 3, 4, 5)"
   ]
  },
  {
   "cell_type": "markdown",
   "metadata": {},
   "source": [
    "答案：我认为最有可能被分为正类的是，因为。"
   ]
  },
  {
   "cell_type": "markdown",
   "metadata": {},
   "source": [
    "### 3.1.2 分类器 vs 超平面\n",
    "考虑另外一个参数向量：W′ = (-2, 3, -2, -1, 1)\n",
    "+ 问题1：W′和W是否代表同一个超平面，为什么？\n",
    "+ 答案1：\n",
    "    <br>\n",
    "+ 问题2：W′和W是否代表同一个分类器，为什么？\n",
    "+ 答案2："
   ]
  },
  {
   "cell_type": "markdown",
   "metadata": {},
   "source": [
    "# 评价学习方法\n",
    "我们需要实现非常简单的学习算法，这种算法准备了一个可能的超平面的集合，和一组数据集$\\mathcal{Data}_{train}$(由数据的数组和其标签向量组成)，返回一个在训练数据集上错误数据最少的超平面。这里需要考虑感知机算法，去实现这个算法。我们还将熟悉其他算法，这些算法同样是给定一些输入的数据，然后输出一个分类的超平面。\n",
    "\n",
    "\n",
    "在实验中，我们主要探索如何优化学习方法。\n",
    "注意下面这些实验中使用的符号：\n",
    "\n",
    "生成器$g$是一个有$n$个输入的函数，$n$是所需的样本数，并且返回一个$(X, y)$,其中$X$是一个$d $×$ n$的随机采样数据点，$y$是一个1×$n$，且对应标签为{+1，-1}的数组。\n",
    "\n",
    "训练数据集$\\mathcal{Data}_{train}$是一组由$g$,$X$,$y$生成的带标签的样本，$x^i$表示一个分类对象的属性，$y^i$表示$x^i$的标签。\n",
    "\n",
    "一个二元分类器$h$是一个函数，样本$x\\in R^d$作为输入，返回+1，或者-1。"
   ]
  },
  {
   "cell_type": "markdown",
   "metadata": {},
   "source": [
    "# 3.2 评估一个分类器\n",
    "\n",
    "想象一下，这里有一个从数百万个点的有限数据集中提取的生成器$g$。\n",
    "\n",
    "假设$\\mathcal{Data}_{train}$是生成器$g$的输出之一。\n",
    "\n",
    "考虑以下的情况：使用机器学习算法在一个训练数据集上$\\mathcal{Data}_{train}$，并且返回了一个特别的$h$，现在的工作是设计（但还没有实现！）一个程序来评估$h$作为分类器的有效性。\n",
    "\n",
    "假设已经有一个评分函数，包含了分类器$h$，数据集$D$ - 数据和标签的元组：$(X,y)$- 并以0和1之间的小数形式返回正确分类示例的百分比。我们将其打包如下："
   ]
  },
  {
   "cell_type": "code",
   "execution_count": 1,
   "metadata": {},
   "outputs": [],
   "source": [
    "def eval_classifier(h, D):\n",
    "    test_X, test_y = D\n",
    "    return score(h, test_X, test_y)"
   ]
  },
  {
   "cell_type": "markdown",
   "metadata": {},
   "source": [
    "3.2.1 分析师A建议重用训练数据来评估$h$ :\n",
    "eval_classifier(h, D_train)"
   ]
  },
  {
   "cell_type": "markdown",
   "metadata": {},
   "source": [
    "请解释为什么分析师A的策略不太好。\n",
    "\n",
    "\n",
    "- 答："
   ]
  },
  {
   "cell_type": "markdown",
   "metadata": {},
   "source": [
    "3.2.2 工程师B建议重新生成专用于评估的数据集用于评估$h$ ，请根据已知内容重写函数eval_classifier"
   ]
  },
  {
   "cell_type": "code",
   "execution_count": 3,
   "metadata": {},
   "outputs": [],
   "source": [
    "# 答案\n"
   ]
  },
  {
   "cell_type": "markdown",
   "metadata": {},
   "source": [
    "3.2.3 解释为什么分析师B可能比分析师A的方法更受欢迎。它解决了什么问题？</font></br>\n",
    "</br>\n",
    "+ 答："
   ]
  },
  {
   "cell_type": "markdown",
   "metadata": {},
   "source": [
    "3.2.4 如果$\\mathcal{Data}_{test}$来自与G不同的分布，但$\\mathcal{Data}_{train}$没有改变，在B)中你的方法将如何对分类器h进行评分？\n",
    "\n",
    "+ 答："
   ]
  },
  {
   "cell_type": "markdown",
   "metadata": {},
   "source": [
    "# 3.3 评价一个学习算法"
   ]
  },
  {
   "cell_type": "markdown",
   "metadata": {},
   "source": [
    "一个学习算法可以看做是一个函数$\\mathcal{L}$，具有输入：\n",
    "\n",
    "训练数据集$\\mathcal{Data}_{train}$ \n",
    "\n",
    "返回一个分类器$h$。"
   ]
  },
  {
   "cell_type": "markdown",
   "metadata": {},
   "source": [
    "3.3.1  如果同一个学习算法$\\mathcal{L}$ 在两个不同的训练数据集$\\mathcal{Data}_{train1}$ ,$\\mathcal{Data}_{train2}$ 上运行，是否产生两个同样的分类器？\n",
    "\n",
    "换句话说 $\\mathcal{h1}=\\mathcal{L}(\\mathcal{D}_{train1})$ 和 $\\mathcal{h2}=\\mathcal{L}(\\mathcal{D}_{train2})$ 能产生相同的分类器吗？\n",
    "\n",
    "如果这些训练数据集的数据服从相同的分布。\n",
    "\n",
    "+ 答："
   ]
  },
  {
   "cell_type": "markdown",
   "metadata": {},
   "source": [
    "现在，分析师C试图向你推销一种新的学习算法，而你想知道它有多好。有一个有趣的结果表明，如果不对你的数据做任何假设，对于所有数据源，没有任何学习算法比其他任何学习算法都更好。 因此，需要在特定数据源的上下文中评估学习算法的性能。\n",
    "\n",
    "思考题：分类器和学习算法有什么区别？ 在思考这个问题时，理解区别会有所帮助。\n",
    "+ 答：\n"
   ]
  },
  {
   "cell_type": "markdown",
   "metadata": {},
   "source": [
    "\n",
    "3.3.2 分析师D想要评估学习算法，并建议以下过程："
   ]
  },
  {
   "cell_type": "code",
   "execution_count": 4,
   "metadata": {},
   "outputs": [],
   "source": [
    "def eval_learning_alg(L, G, n):\n",
    "    # 画一组n个训练样本的例子 (包括数据点和标签)\n",
    "    train_X, train_y = G(n)\n",
    "    # 运行 L\n",
    "    h = L(train_X, train_y)\n",
    "    #在一些新标记的数据上使用分类器评分程序进行评估\n",
    "    test_data = G(n) # 画出新的测试数据集\n",
    "    return eval_classifier(h, test_data)"
   ]
  },
  {
   "cell_type": "markdown",
   "metadata": {},
   "source": [
    "请解释说明：代码中的G和n是什么？ 解释一下为什么分析师D的策略不够好？ \n",
    "\n",
    "\n",
    "+ 答："
   ]
  },
  {
   "cell_type": "markdown",
   "metadata": {},
   "source": [
    "3.3.3 接下来，分析师D决定生成一个分类器$h$，但在 eval_learning_alg 中使用多个 (10) 测试集评估该分类器。 更具体地说，分析师D将上面的代码更改为：\n"
   ]
  },
  {
   "cell_type": "code",
   "execution_count": 5,
   "metadata": {},
   "outputs": [],
   "source": [
    "def eval_learning_alg(L, G, n):\n",
    "    train_X, train_y = G(n)\n",
    "    h = L(train_X, train_y)\n",
    "    score = 0\n",
    "    for i in range(10):\n",
    "        test_data = G(n) \n",
    "        score += eval_classifier(h, test_data)\n",
    "    return score/10"
   ]
  },
  {
   "cell_type": "markdown",
   "metadata": {},
   "source": [
    "请说明现在的策略是好还是不好？为什么？代码一共从学习算法中生成和测试了多少个分类器？\n",
    "\n",
    "- 答："
   ]
  },
  {
   "cell_type": "markdown",
   "metadata": {},
   "source": [
    "3.3.4 现在设计一个更好的评估$\\mathcal{L}$的程序, 为输入$\\mathcal{L}$,$G$和 n并返回分数的过程编写伪代码。说明输出分数衡量的是什么,以及最好和最差的值是什么。\n",
    "\n"
   ]
  },
  {
   "cell_type": "code",
   "execution_count": 6,
   "metadata": {},
   "outputs": [],
   "source": [
    "def better_eval_learning_alg(L, G, n):\n",
    "    score = 0\n",
    "    for i in range(10):\n",
    "        X, y = G(n)\n",
    "        train_X, X_test, test_data = split(X,y)\n",
    "        h = L(train_X, train_y)\n",
    "        score += eval_classifier(h, test_data)\n",
    "    return score/10"
   ]
  },
  {
   "cell_type": "markdown",
   "metadata": {},
   "source": [
    "+ 答："
   ]
  },
  {
   "cell_type": "markdown",
   "metadata": {},
   "source": [
    "3.3.5 解释一下在(4)中设计的方法比起(3)中的方法更加可取。\n",
    "\n",
    "+ 答："
   ]
  },
  {
   "cell_type": "markdown",
   "metadata": {},
   "source": [
    "# 3.4 用少量数据评估学习算法\n",
    "\n",
    "实际上几乎不可能有一个生成器来生成想要的所有数据。事实上在某些领域收集数据非常昂贵，因此我们可能会得到一个固定的小样本集。现在假设现在只有 100 个标记数据点可用于训练和测试/评估。\n",
    "\n",
    "3.4.1 在上一节中，考虑了如何评估学习算法。现在总共只获得了 100 个标记数据点，如何评估学习算法？特别是如何不使用g而用100个标记数据来实现3.2中的算法：better_eval_learning_alg？\n",
    "可以调用ScikitLearn实现\n",
    "\n",
    "- 答：\n",
    "\n",
    "##### 需要实现代码"
   ]
  },
  {
   "cell_type": "markdown",
   "metadata": {
    "id": "XkVcdFmZbDn9"
   },
   "source": [
    "理解感知机算法：\n",
    "+ 练习将感知机算法应用到玩具数据\n",
    "+ 实现感知机算法及其变体之一\n",
    "+ 应用感知机算法到更大更有趣的数据集\n",
    "\n",
    "除了之前提到的Numpy函数和特性，这里还有一些你应该熟悉的用于这个赋值：\n",
    "+ np.argmax\n",
    "+ np.array_split:查看轴参数\n",
    "+ np.concatenate:查看轴参数\n",
    "+ np.zeros\n",
    "+ numpy.ndarray.shape\n",
    "+ numpy logic functions e.g. np.array([[1, 2],[3, 4]]) == 3\n"
   ]
  },
  {
   "cell_type": "markdown",
   "metadata": {
    "id": "pVbycfx7bDoA"
   },
   "source": [
    "# 3.5 感知机错误\n",
    "让我们将感知器算法（通过原点）应用于包含三个点的小型训练集：\n",
    "\n",
    "| i | Data Points $x^{(i)}$ | Labels $y^{(i)}$|\n",
    "|:-----: | :----: |  :----: |\n",
    "|1|[-1,0]|-1|\n",
    "|2|[1,1]|1|\n",
    "|3|[-0.5,-2]|-1|\n",
    "\n",
    "\n",
    "给定算法从 $W^{(0)}=[0,0]$开始，算法看到的第一个点总是错误的。该算法从一些数据点（在问题中指定）开始，然后循环遍历数据，直到不再出错。"
   ]
  },
  {
   "cell_type": "markdown",
   "metadata": {
    "id": "LyO4izRJbDoD"
   },
   "source": [
    "## 3.5.1 任务 1\n",
    "3.5.1 如果算法从数据点$x^{(1)}$开始，直到收敛算法会犯多少错误?"
   ]
  },
  {
   "cell_type": "markdown",
   "metadata": {
    "id": "MOfbrIiDbDoE"
   },
   "source": [
    "答案："
   ]
  },
  {
   "cell_type": "markdown",
   "metadata": {
    "id": "SRe3iphibDoJ"
   },
   "source": [
    "<center class=\"half\">\n",
    "    <img src='./Figures/Figures006.png' width=300 />\n",
    "</center>\n",
    "\n",
    "3.5.2 以上哪副图的超平面与算法循环相对应？忽略权值初始化0，仅在更改时包含一个条目。"
   ]
  },
  {
   "cell_type": "markdown",
   "metadata": {
    "id": "Rt1jXYhcbDoM"
   },
   "source": [
    "答案："
   ]
  },
  {
   "cell_type": "markdown",
   "metadata": {
    "id": "lLHxyX80bDoP"
   },
   "source": [
    "3.5.3 如果算法从数据点$x^{(2)}$开始，会出现多少次错误？ 然后是$x^{(3)}$和$x^{(1)}$"
   ]
  },
  {
   "cell_type": "markdown",
   "metadata": {
    "id": "dgLXLtxEbDoS"
   },
   "source": [
    "答案："
   ]
  },
  {
   "cell_type": "markdown",
   "metadata": {
    "id": "f2TAazoDbDoT"
   },
   "source": [
    "3.5.4 如果是从数据点$x^{(2)}$开始（然后是$x^{(3)}$和$x^{(1)}$），随着算法循环，哪些图对应于超平面的进展？ 忽略最初的 0 权重。"
   ]
  },
  {
   "cell_type": "markdown",
   "metadata": {
    "id": "ddPIgZlBbDoV"
   },
   "source": [
    "答案："
   ]
  },
  {
   "cell_type": "markdown",
   "metadata": {
    "id": "cInMOrF_bDoX"
   },
   "source": [
    "## 3.5.2 任务 2\n",
    "现在假设$x^{(3)}$ = [8,-1],标签为 1\n",
    "\n",
    "3.5.2.1 如果算法从数据点$x^{(1)}$开始，算法会犯多少错误直到收敛?"
   ]
  },
  {
   "cell_type": "markdown",
   "metadata": {
    "id": "kIFRCASebDoZ"
   },
   "source": [
    "答案："
   ]
  },
  {
   "cell_type": "markdown",
   "metadata": {
    "id": "1oLyf-5mbDoa"
   },
   "source": [
    "3.5.2.2 如果从数据点$\\mathcal{x}^{(2)}$ 开始会犯多少错误？"
   ]
  },
  {
   "cell_type": "markdown",
   "metadata": {
    "id": "ybXfoqVQbDob"
   },
   "source": [
    "答案："
   ]
  },
  {
   "cell_type": "markdown",
   "metadata": {
    "id": "95GWs1ynbDoc"
   },
   "source": [
    "# 3.6 初始化\n",
    "\n",
    "3.6.1 如果使用$W=[1000,-1000]$ 初始化了一个感知机算法，为了将数据集与问题1分开，它会如何影响犯错的数量？"
   ]
  },
  {
   "cell_type": "markdown",
   "metadata": {
    "id": "PtfcTQaabDoc"
   },
   "source": [
    "A.它对错误数量的影响很小或没有影响。\n",
    "\n",
    "B.这将大大减少错误的数量。\n",
    "\n",
    "C.这将大大增加错误的数量。"
   ]
  },
  {
   "cell_type": "markdown",
   "metadata": {
    "id": "G6YjAOeVbDoe"
   },
   "source": [
    "答案："
   ]
  },
  {
   "cell_type": "markdown",
   "metadata": {
    "id": "t3rCP_NPbDof"
   },
   "source": [
    "3.6.2 对于每个运行在问题1数据集上的经过原点的感知器算法给定$W^{(0)}$的值,使用$W^{(0)}=[0,0]$返回不同的结果，下面重复数据集\n",
    "\n",
    "| i | Data Points $x^{(i)}$ | Labels $y^{(i)}$|\n",
    "|:-----: | :----: |  :----: |\n",
    "|1|[-1,0]|-1|\n",
    "|2|[1,1]|1|\n",
    "|3|[-0.5,-2]|-1|\n",
    "\n",
    "输出最后返回的$W$"
   ]
  },
  {
   "cell_type": "markdown",
   "metadata": {
    "id": "-Jz0JnZubDoh"
   },
   "source": [
    "答案："
   ]
  },
  {
   "cell_type": "markdown",
   "metadata": {
    "id": "AXaCMinYbDok"
   },
   "source": [
    "## 3.7 双视图 \n",
    "\n",
    "下表显示了一个数据集以及在运行感知器算法期间每个点被错误分类的次数（带偏移量）$W$初始化为0向量，并且$W_{0}$初始化为0\n",
    "\n",
    "| i | $x^{(i)}$ | $y^{i}$|times nisclassified |\n",
    "|:-----: | :----: |  :----: | :---: |\n",
    "|1|[-3,2]|1|2|\n",
    "|2|[-1,1]|-1|4|\n",
    "|3|[-1,-1]|-1|2|\n",
    "|4|[2,2]|-1|0|\n",
    "|5|[1,-1]|-1|0|"
   ]
  },
  {
   "cell_type": "markdown",
   "metadata": {
    "id": "_afegfq9bDon"
   },
   "source": [
    "3.7.1  什么是训练后的$W$\n",
    "\n",
    "提供python的list，如[a, b]格式的数据 "
   ]
  },
  {
   "cell_type": "markdown",
   "metadata": {
    "id": "Tlnx2e9ebDoo"
   },
   "source": [
    "答案："
   ]
  },
  {
   "cell_type": "markdown",
   "metadata": {
    "id": "j85p8P8BbDoq"
   },
   "source": [
    "3.7.2  什么是训练后的$W_0$\n",
    "提供一个数字"
   ]
  },
  {
   "cell_type": "markdown",
   "metadata": {
    "id": "NrFJf2RpbDor"
   },
   "source": [
    "答案："
   ]
  },
  {
   "cell_type": "markdown",
   "metadata": {
    "id": "v_nTKbe2bDos"
   },
   "source": [
    "## 3.8 决策边界\n",
    "3.8.1 AND\n",
    "考虑在三个二进制变量上定义的 AND 函数 $f(x_1, x_2, x_3) = (x_1 ∧ x_2 ∧ x_3)$\n",
    "不熟悉 AND 函数:如果所有三个变量都为真，它只会返回 true(值为1)否则为0\n",
    "目标是找到一个$/theta$,对任何的$x = [x_1, x_2, x_3]$,其中$x_i ∈ \\{  0, 1 \\} $:\n",
    "\n",
    "$W⋅ x + W_0 > 0 $   when $ f(x_1, x_2, x_3) = 1, and$\n",
    "\n",
    "$W ⋅ x + W_0 ≤ 0 $   when $ f(x_1, x_2, x_3) = 0.$"
   ]
  },
  {
   "cell_type": "markdown",
   "metadata": {
    "id": "-_BUVwpFbDos"
   },
   "source": [
    "\n",
    "\n",
    "3.8.1.1 对于每个值的组合$(x_1, x_2, x_3)$，如[(0, 0, 0), (0, 0, 1), (0, 1, 0), (0, 1, 1), (1, 0, 0), (1, 0, 1), (1, 1, 0), (1, 1, 1)]，则函数$ f(x_1, x_2, x_3) $的值是多少\n",
    "\n",
    "请输入函数$ f(x_1, x_2, x_3) $的值：____________"
   ]
  },
  {
   "cell_type": "markdown",
   "metadata": {
    "id": "bW1Sb5lGbDou"
   },
   "source": [
    "答案："
   ]
  },
  {
   "cell_type": "markdown",
   "metadata": {
    "id": "tcvAH0TKbDov"
   },
   "source": [
    "3.8.1.2 假设$W_0 = 0$(无偏移),输入长度为3 的 $ W $ 的python list，或者如果不存在，可输入“none”作为python的String________________"
   ]
  },
  {
   "cell_type": "markdown",
   "metadata": {
    "id": "PDm2owKQbDow"
   },
   "source": [
    "答案："
   ]
  },
  {
   "cell_type": "markdown",
   "metadata": {
    "id": "i2kALBrXbDow"
   },
   "source": [
    "3.8.1.3 假设$W_0 $是非0的，输入一个$W$ 和$W_0 $ 作为python长度为4的list（$W_0$在后面），或如果不存在，则输入“none”_____________"
   ]
  },
  {
   "cell_type": "markdown",
   "metadata": {
    "id": "1YOX8wCXbDox"
   },
   "source": [
    "答案："
   ]
  },
  {
   "cell_type": "markdown",
   "metadata": {
    "id": "WxFIoVF3bDox"
   },
   "source": [
    "3.8.2 家族\n",
    "\n",
    "获得以下标记的数据点：\n",
    "\n",
    "正例：[1, 0.5] 和 [2, 1]\n",
    "\n",
    "反例：[−1, 1]和 [1, −1]\n",
    "\n",
    "对于以下每个参数化的分类器族，找出能够正确分类上述数据的族成员的参数，或者思考为什么不存在这样的族成员。\n",
    "\n",
    "是否有以下形式的分类器可以正确分类上述数据？\n",
    "\n",
    "回想一下，我们认为恰好位于分隔符上的点被归类为负值。"
   ]
  },
  {
   "cell_type": "markdown",
   "metadata": {
    "id": "aFI1pnUYbDo0"
   },
   "source": [
    "\n",
    "3.8.2.1 在以原点为中心的圆的内部或外部，半径为 $r$\n",
    "\n",
    "输入$r$的值，如果不存在则输入“none”_____________________"
   ]
  },
  {
   "cell_type": "markdown",
   "metadata": {
    "id": "qKyFv-42bDo1"
   },
   "source": [
    "答案："
   ]
  },
  {
   "cell_type": "markdown",
   "metadata": {
    "id": "1pXjeZQabDo3"
   },
   "source": [
    "\n",
    "3.8.2.2 以 x 为中心，半径为$r$圆的内部或外部为 $x_0$和 $r([x_{01},x_{02},r])$输入一个包含 3 个坐标list的列表,如果不存在则输入“none”_____________________"
   ]
  },
  {
   "cell_type": "markdown",
   "metadata": {
    "id": "yJe9wiTobDo4"
   },
   "source": [
    "答案："
   ]
  },
  {
   "cell_type": "markdown",
   "metadata": {
    "id": "0LO6z450bDo5"
   },
   "source": [
    "3.8.2.3 在通过原点的直线的一侧，具有法线 $W$ （将法线向量点召回到正半空间） \n",
    "\n",
    "输入 $W$ 的值2个坐标值的一个list，如果不存在则输入“none”_____________________"
   ]
  },
  {
   "cell_type": "markdown",
   "metadata": {
    "id": "LIsbc0JGbDo5"
   },
   "source": [
    "答案："
   ]
  },
  {
   "cell_type": "markdown",
   "metadata": {
    "id": "AlGlL60TbDo7"
   },
   "source": [
    "3.8.2.4 在具有法线 $r$ 和偏置 $W_0$的线的一侧 （将法线向量点召回到正半空间）\n",
    "\n",
    "输入3个值的list 代表$W$和$W_0$ $([W_1, W_2, W_0])$,如果不存在则输入“none”_____________________"
   ]
  },
  {
   "cell_type": "markdown",
   "metadata": {
    "id": "9plIfrAkbDo8"
   },
   "source": [
    "答案："
   ]
  },
  {
   "cell_type": "markdown",
   "metadata": {
    "id": "-XbOzPvBbDo8"
   },
   "source": [
    "3.8.2.5 上面哪个是线性分类器族?\n",
    "\n",
    "+ A 4.2.1\n",
    "\n",
    "+ B 4.2.2\n",
    "\n",
    "+ C 4.2.3\n",
    "\n",
    "+ D 4.2.4"
   ]
  },
  {
   "cell_type": "markdown",
   "metadata": {
    "id": "bmNhkx-zbDo-"
   },
   "source": [
    "答案："
   ]
  },
  {
   "cell_type": "markdown",
   "metadata": {},
   "source": [
    "## 3.9 偏置\n",
    "给出两个点，$(x_0, x_1)和(y_0, y_1)$在线性可分但不能通过原点线性可分的二维空间中。可以通过原点分离吗？\n",
    "+ 答："
   ]
  }
 ],
 "metadata": {
  "kernelspec": {
   "display_name": "Python 3.9.5 64-bit",
   "language": "python",
   "name": "python3"
  },
  "language_info": {
   "codemirror_mode": {
    "name": "ipython",
    "version": 3
   },
   "file_extension": ".py",
   "mimetype": "text/x-python",
   "name": "python",
   "nbconvert_exporter": "python",
   "pygments_lexer": "ipython3",
   "version": "3.9.5"
  },
  "vscode": {
   "interpreter": {
    "hash": "31f2aee4e71d21fbe5cf8b01ff0e069b9275f58929596ceb00d14d90e3e16cd6"
   }
  }
 },
 "nbformat": 4,
 "nbformat_minor": 4
}
