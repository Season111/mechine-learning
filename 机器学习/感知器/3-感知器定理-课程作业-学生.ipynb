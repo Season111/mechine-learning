{
 "cells": [
  {
   "cell_type": "markdown",
   "metadata": {},
   "source": [
    "# <center>《机器学习》— 第三章 感知器 课程作业</center>\n",
    "\n",
    "### <center>2020 级人工智能专业  姓名：周功海  学号：320190903781</center>"
   ]
  },
  {
   "cell_type": "markdown",
   "metadata": {},
   "source": [
    "## 感知器定理"
   ]
  },
  {
   "cell_type": "markdown",
   "metadata": {},
   "source": [
    "### 1. 线性可分训练\n",
    "在课程内容中讨论，注意$\\mathcal{E}_{n}(W,W_{0})$指的是由$W,W_{0}$ 决定的线性分类器的训练误差，并且$\\mathcal{E}(W,W_{0})$ 指的是其测试误差。训练数据线性可分的事实意味着什么？ \n",
    "+ 必须存在$W,W_{0}$，使得$\\mathcal{E}(W,W_{0})$ = 0\n",
    "+ 答：\n",
    "+ 必须存在$W,W_{0}$，使得$\\mathcal{E}_{n}(W,W_{0})$ = 0\n",
    "+ 答：\n",
    "+ 存在训练误差为0的分隔符\n",
    "+ 答：\n",
    "+ 对于所有可能的测试集，存在一个测试错误为0的分隔符\n",
    "+ 答：\n",
    "+ 感知器会找到$W,W_{0}$，这样的$\\mathcal{E}_{n}(W,W_{0})$ = 0\n",
    "+ 答："
   ]
  },
  {
   "cell_type": "markdown",
   "metadata": {
    "id": "HR6poWyVbDpA"
   },
   "source": [
    "### 2. 分割\n",
    "\n",
    "如果以下数据集是否为：\n",
    "\n",
    "-不是线性可分的\n",
    "\n",
    "-无偏移线性可分\n",
    "\n",
    "-仅使用非零偏移量线性可分\n",
    "\n",
    "提示：这里不必通过感知器算法来解决这个问题"
   ]
  },
  {
   "cell_type": "markdown",
   "metadata": {
    "id": "fE9oUo-mer7U"
   },
   "source": [
    "2.1 数据集1：\n",
    "#数据已修改，需要确认答案√\n",
    "\n",
    " | i | $Data Points: x^{(i)}$ | $Labels:y^{i}$|\n",
    "|:-----: | :----: |  :----: |\n",
    "|1|[1,-1]|1|\n",
    "|2|[-1,1]|1|\n",
    "|3|[-1,-1]|-1|\n",
    "|4|[1,1]|-1|\n",
    " \n",
    " \n",
    " 这个数据集是______________\n",
    " \n",
    " + A.非线性分割\n",
    " + B.线性无偏置分割\n",
    " + C.线性分割仅有一个零偏置\n"
   ]
  },
  {
   "cell_type": "markdown",
   "metadata": {
    "id": "ZuXNQKzkewNt"
   },
   "source": [
    "答案：\n",
    "\n"
   ]
  },
  {
   "cell_type": "markdown",
   "metadata": {
    "id": "EX5M2vtYfRrt"
   },
   "source": [
    "2.2 数据集2：\n",
    "\n",
    " | i | $Data Points: x^{(i)}$ | $Labels:y^{i}$|\n",
    "|:-----: | :----: |  :----: |\n",
    "|1|[1,-1]|1|\n",
    "|2|[-1,1]|1|\n",
    "|3|[-1,-1]|1|\n",
    "|4|[1,1]|-1|\n",
    " \n",
    " \n",
    " 这个数据集是______________\n",
    "\n",
    " + A.非线性分割\n",
    " + B.线性无偏置分割\n",
    " + C.线性分割仅有一个零偏置\n"
   ]
  },
  {
   "cell_type": "markdown",
   "metadata": {
    "id": "iv78WKVOfhHV"
   },
   "source": [
    "答案："
   ]
  },
  {
   "cell_type": "markdown",
   "metadata": {
    "id": "YLgwu3NxgHif"
   },
   "source": [
    "2.3 数据集3：\n",
    "\n",
    " | i | $Data Points: x^{(i)}$ | $Labels:y^{i}$|\n",
    "|:-----: | :----: |  :----: |\n",
    "|1|[1,-1,1]|1|\n",
    "|2|[1,1,1]|1|\n",
    "|3|[-1,-1,1]|-1|\n",
    "|4|[-1,1,1]|-1|\n",
    " \n",
    " \n",
    " 这个数据集是______________\n",
    "\n",
    " + A.非线性分割\n",
    " + B.线性无偏置分割\n",
    " + C.线性分割仅有一个零偏置\n"
   ]
  },
  {
   "cell_type": "markdown",
   "metadata": {
    "id": "C_bvXDRdgSd6"
   },
   "source": [
    "答案："
   ]
  },
  {
   "cell_type": "markdown",
   "metadata": {
    "id": "5cq9LSSQbDpA"
   },
   "source": [
    "  2.4 比较数据2和数据3，看看能不能概括从这两个例子中学到的东西。 \n",
    "  \n",
    "  以下哪种转换允许将任何仅通过偏移线性可分的数据集转换为无偏移线性可分的数据集，从而使转换不依赖于数据点的值？ 选择所有有效的： \n",
    "  \n",
    "  这个数据集是：\n",
    "  \n",
    "* 1.删除每个数据点的最终维度\n",
    "* 2.使用任何（非零）数字向所有数据点添加额外维度\n",
    "* 3.使用每个点的相同（非零）数字向所有数据点添加额外维度\n",
    "* 4.为每个点使用 1 为所有数据点添加一个额外的维度\n",
    "* 5.为所有数据点添加一个额外的维度，每个点使用 0\n",
    "* 6.具有这些属性的转换是不可能的 "
   ]
  },
  {
   "cell_type": "markdown",
   "metadata": {
    "id": "yRPkIiQoglT3"
   },
   "source": [
    "答案："
   ]
  },
  {
   "cell_type": "markdown",
   "metadata": {
    "id": "tFEOUyxPbDpB"
   },
   "source": [
    "### 3. 错误与一般化\n",
    "\n",
    "需要查看感知机的收敛定理\n",
    "\n",
    "#### 3.1 点图\n",
    "\n",
    "考虑以下图，对于$R$的每一个估计（训练向量大小的上限）的合理值 和 $\\gamma$ (数据集分隔符的边距)\n",
    "\n",
    "考虑$R$的值的范围在[1,10]之间, $\\gamma$ 的范围在[0.01, 2]之间\n",
    "\n",
    "##### 3.1.1\n",
    "<center class=\"half\">\n",
    "    <img src='./Figures/Figures001.png' width=300 />\n",
    "</center>\n",
    "\n",
    "输入一个带有2个浮点数的Python列表，一个值为R，一个值为$\\gamma$ _____________________\n",
    "\n",
    "\n"
   ]
  },
  {
   "cell_type": "markdown",
   "metadata": {
    "id": "MlkvOviEhzNi"
   },
   "source": [
    "答案："
   ]
  },
  {
   "cell_type": "markdown",
   "metadata": {
    "id": "Zwh4VybrbDpC"
   },
   "source": [
    "##### 3.1.2 <center class=\"half\">\n",
    "    <img src='./Figures/Figures002.png' width=300 />\n",
    "</center>\n",
    "\n",
    "输入一个带有2个浮点数的Python列表，一个值为R，一个值为$\\gamma$  _____________________"
   ]
  },
  {
   "cell_type": "markdown",
   "metadata": {
    "id": "9nxWKOrQigNR"
   },
   "source": [
    "答案："
   ]
  },
  {
   "cell_type": "markdown",
   "metadata": {
    "id": "O1_piZpMbDpD"
   },
   "source": [
    "##### 3.1.3 \n",
    "\n",
    "<center class=\"half\">\n",
    "    <img src='./Figures/Figures003.png' width=300 />\n",
    "</center>\n",
    "输入一个带有2个浮点数的Python列表，一个值为R，一个值为$\\gamma$  _____________________"
   ]
  },
  {
   "cell_type": "markdown",
   "metadata": {
    "id": "bMSGSvexit1H"
   },
   "source": [
    "答案："
   ]
  },
  {
   "cell_type": "markdown",
   "metadata": {
    "id": "eoyVjpg9bDpE"
   },
   "source": [
    "##### 3.1.4\n",
    "<center class=\"half\">\n",
    "    <img src='./Figures/Figures004.png' width=300 />\n",
    "</center>\n",
    "\n",
    "输入一个带有2个浮点数的Python列表，一个值为R，一个值为$\\gamma$  _____________________"
   ]
  },
  {
   "cell_type": "markdown",
   "metadata": {
    "id": "F9gZddMIi-Ub"
   },
   "source": [
    "答案："
   ]
  },
  {
   "cell_type": "markdown",
   "metadata": {
    "id": "yaSgLNNFbDpF"
   },
   "source": [
    "#### 3.2 边界误差\n",
    "\n",
    "##### 3.2.1 当R = 1, n = 1000，对于以下每个 $\\gamma $ 值，错误的上边界是什么?\n",
    "\n",
    "(.00001, .0001, .001, .01, .1, .25, .5)\n",
    "\n",
    "回想一下，给定一个通过原点的线性分离器，感知器算法使 感知器算法最多会犯 $(R/ \\gamma)^2$次 错误\n",
    "\n",
    "\n",
    "想想当分隔符不通过原点时如何计算这个界限。\n",
    "\n",
    "输入7个float的python列表\n",
    "\n",
    "答案： \n",
    "\n",
    "\n"
   ]
  }
 ],
 "metadata": {
  "kernelspec": {
   "display_name": "Python 3.8.13 (conda)",
   "language": "python",
   "name": "python3"
  },
  "language_info": {
   "codemirror_mode": {
    "name": "ipython",
    "version": 3
   },
   "file_extension": ".py",
   "mimetype": "text/x-python",
   "name": "python",
   "nbconvert_exporter": "python",
   "pygments_lexer": "ipython3",
   "version": "3.8.13"
  },
  "vscode": {
   "interpreter": {
    "hash": "fd66c1ceb77ed659473192727f2f130f488a1b3f89f93f2a4194650289467c02"
   }
  }
 },
 "nbformat": 4,
 "nbformat_minor": 4
}
