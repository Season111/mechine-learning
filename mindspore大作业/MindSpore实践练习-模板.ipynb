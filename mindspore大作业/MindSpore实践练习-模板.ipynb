{
 "cells": [
  {
   "cell_type": "markdown",
   "metadata": {
    "colab_type": "text",
    "id": "view-in-github"
   },
   "source": [
    "<a href=\"https://colab.research.google.com/github/ankile/MIT6.036-Intro-Machine-Learning/blob/master/hw-01/mit6036_homework1.ipynb\" target=\"_parent\"><img src=\"https://colab.research.google.com/assets/colab-badge.svg\" alt=\"Open In Colab\"/></a>"
   ]
  },
  {
   "cell_type": "markdown",
   "metadata": {},
   "source": [
    "\n",
    "# <center>《机器学习》— MindSpore实践练习 </center>\n",
    "\n",
    "### <center>选择题目分组：A/B/C/D</center>\n",
    "\n",
    "\n",
    "### <center>小组成员  姓名：XXX  学号：XXXXXXXXXXX</center>\n",
    "### <center>小组成员  姓名：XXX  学号：XXXXXXXXXXX</center>\n",
    "### <center>小组成员  姓名：XXX  学号：XXXXXXXXXXX</center>\n",
    "### <center>小组成员  姓名：XXX  学号：XXXXXXXXXXX</center>\n",
    "### <center>小组成员  姓名：XXX  学号：XXXXXXXXXXX</center>\n",
    "### <center>小组成员  姓名：XXX  学号：XXXXXXXXXXX</center> （小组最多6人）\n",
    "\n",
    "\n",
    "### <center>题目内容：（只保留一组题目即可）</center> \n",
    "###<center>在题目对应位置写清实验分工，同时也可以在具体内容位置标注完成成员姓名</center> \n",
    "### 实验要求： 在MindSpore1.8.1上可运行，使用CPU或GPU等需要说明注释\n",
    "### A\n",
    "1、构造平方损失函数\n",
    "\n",
    "2、实现一维线性回归\n",
    "\n",
    "3、实现随机梯度下降算法\n",
    "\n",
    "4、实现二分类损失函数\n",
    "\n",
    "5、构建Min Pooling层\n",
    "\n",
    "6、构造并训练VGG网络\n",
    "\n",
    "7、实现强化学习示例\n",
    "\n",
    "8、实现目标检测示例\n",
    "### B\n",
    "1、构造线性损失\n",
    "\n",
    "2、实现二维线性回归\n",
    "\n",
    "3、训练一个简单网络\n",
    "\n",
    "4、实现多分类损失函数\n",
    "\n",
    "5、构造Dropout层\n",
    "\n",
    "6、构建Max Pooling层\n",
    "\n",
    "7、实现ALexNet手写字体识别\n",
    "\n",
    "8、实现LSTM算法\n",
    "\n",
    "9、实现目标分割示例\n",
    "###  C\n",
    "1、构造非对称损失\n",
    "\n",
    "2、构造Relu激活函数\n",
    "\n",
    "3、构造单层网络模型\n",
    "\n",
    "4、设置数据集Batch\n",
    "\n",
    "5、构造卷积层\n",
    "\n",
    "6、实现Qlearning\n",
    "\n",
    "7、实现一个推荐系统示例\n",
    "\n",
    "8、实现语义分割示例\n",
    "### D\n",
    "1、构造负对数似然损失函数\n",
    "\n",
    "2、实现梯度下降算法\n",
    "\n",
    "3、构造多层网络模型\n",
    "\n",
    "4、实现softmax\n",
    "\n",
    "5、构建Avg Pooling层\n",
    "\n",
    "6、构造全连接层\n",
    "\n",
    "7、实现AC算法\n",
    "\n",
    "8、实现图像分类示例\n",
    "\n",
    "9、实现语音识别示例\n"
   ]
  },
  {
   "cell_type": "markdown",
   "metadata": {
    "colab_type": "text",
    "id": "HYV_oPy1jkts"
   },
   "source": [
    "# 1、 XXXXXXX\n",
    "## 1.1 题目理解（可补充完成成员姓名）\n",
    "## 1.2 原理描述（需要贴图的可以在本地新建文件夹Figures保存图像文件，例如用（![avatar](Figures/fig003.png)）等方法导入图像，并打包作业为压缩文件上传（可补充完成成员姓名）\n",
    "## 1.3 代码+注释：代码注释内容需详细，包括函数中使用的数据对象的描述（可补充完成成员姓名）\n",
    "## 1.4 结果展示尽可能全面，能有效说明执行效果（最后三个大练习需要有结果数据的分析图和数据对比表）（可补充完成成员姓名）\n",
    "## 1.5 实践过程问题记录+解决方案：(1)(2)...... （可补充完成成员姓名）\n",
    "## 1.6 实验分析与总结 （可补充完成成员姓名）\n",
    "## 注意：需要认真准备，有时间会组织各组分享和汇报并录制视频"
   ]
  }
 ],
 "metadata": {
  "colab": {
   "collapsed_sections": [],
   "include_colab_link": true,
   "name": "Homework 1.ipynb",
   "provenance": []
  },
  "kernelspec": {
   "display_name": "Python 3.8.13 ('mindspore': conda)",
   "language": "python",
   "name": "python3"
  },
  "language_info": {
   "codemirror_mode": {
    "name": "ipython",
    "version": 3
   },
   "file_extension": ".py",
   "mimetype": "text/x-python",
   "name": "python",
   "nbconvert_exporter": "python",
   "pygments_lexer": "ipython3",
   "version": "3.8.13"
  },
  "vscode": {
   "interpreter": {
    "hash": "fd66c1ceb77ed659473192727f2f130f488a1b3f89f93f2a4194650289467c02"
   }
  }
 },
 "nbformat": 4,
 "nbformat_minor": 1
}
